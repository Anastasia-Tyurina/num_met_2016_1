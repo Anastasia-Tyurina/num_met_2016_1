{
 "cells": [
  {
   "cell_type": "markdown",
   "metadata": {
    "collapsed": true
   },
   "source": [
    "# Лабораторная работа 5: численное решение системы линейных уравнений, численное интегрирование"
   ]
  },
  {
   "cell_type": "markdown",
   "metadata": {},
   "source": [
    "### Задание 2: вычисление интеграла"
   ]
  },
  {
   "cell_type": "markdown",
   "metadata": {},
   "source": [
    "*Вычислить  интеграл $ \\ \\int\\limits_0^\\infty sin(t)\\cdot e^{-i^2t^2}\\,dt$, используя формулу Буля* "
   ]
  },
  {
   "cell_type": "markdown",
   "metadata": {},
   "source": [
    "Вычислим интеграл для $i=1$. Так как верхний предел бесконечный, то будем считать интеграл, органичив подынтегральную функцию."
   ]
  },
  {
   "cell_type": "markdown",
   "metadata": {},
   "source": [
    "Используем формулу Буля: $I = (7\\cdot f(a)+32\\cdot f(\\frac{3a+b}{4})+12\\cdot f(\\frac{a+b}{2})+32\\cdot f(\\frac{a+3b}{4})+7\\cdot f(b))\\cdot \\frac{b-a}{90}$, где $a$ и $b$ $-$ нижний и верхний пределы интегрирования соответственно."
   ]
  },
  {
   "cell_type": "code",
   "execution_count": 1,
   "metadata": {
    "collapsed": true
   },
   "outputs": [],
   "source": [
    "import numpy as np\n",
    "from scipy import *\n",
    "from scipy.linalg import *\n",
    "from math import exp,sin\n",
    "import matplotlib.pyplot as plt\n",
    "from time import time"
   ]
  },
  {
   "cell_type": "code",
   "execution_count": 2,
   "metadata": {
    "collapsed": false
   },
   "outputs": [
    {
     "name": "stdout",
     "output_type": "stream",
     "text": [
      "I = 0.42438827948870833\n"
     ]
    }
   ],
   "source": [
    "def f(x):\n",
    "    z=sin(x)*exp(-x**2)\n",
    "    return z\n",
    "    #подыинтегральная функция при i=1\n",
    "\n",
    "def I(y):\n",
    "    #интеграл\n",
    "    z=0\n",
    "    #функция интеграла\n",
    "    a=0\n",
    "    #a-нижний предел(фиксированный), равен 0\n",
    "    #n=0 - количество итераций, затрачиваемое на вычисление интеграла\n",
    "    h=2/y \n",
    "    #h-шаг разбиения интеграла (взяли произвольный)\n",
    "    #y-номер итерации\n",
    "    while True:\n",
    "        b=a+h\n",
    "        #b-верхний(двигаем)\n",
    "        c=((7*f(a))+32*f((3*a+b)/4)+12*f((a+b)/2)+32*f((a+3*b)/4)+7*f(b))*(b-a)/90\n",
    "        #формула\n",
    "        a=a+h\n",
    "        z=z+c\n",
    "        #n=n+1\n",
    "        \n",
    "        if f(b)<0.01:\n",
    "            break\n",
    "            #условие выхода из цикла\n",
    "    return z\n",
    "\n",
    "#уточнение значения\n",
    "y=1\n",
    "i1=2\n",
    "i0=1\n",
    "while abs(i1-i0)>0.001:\n",
    "    i0=I(y)\n",
    "    i1=I(y+1)\n",
    "    y=y+1\n",
    "print(\"I =\" ,i1)\n"
   ]
  },
  {
   "cell_type": "markdown",
   "metadata": {},
   "source": [
    "### Задание 2: построить график подыинтегральной функции, а также график зависимости интеграла от номера итерации ($i=1$)"
   ]
  },
  {
   "cell_type": "markdown",
   "metadata": {},
   "source": [
    "График подынтегральной функции."
   ]
  },
  {
   "cell_type": "code",
   "execution_count": 3,
   "metadata": {
    "collapsed": false
   },
   "outputs": [
    {
     "data": {
      "image/png": "[encoded data removed]",
      "text/plain": [
       "<matplotlib.figure.Figure at 0x5a3c0b0>"
      ]
     },
     "metadata": {},
     "output_type": "display_data"
    }
   ],
   "source": [
    "% matplotlib inline\n",
    "X=np.linspace(0,5,1000)\n",
    "Y=[f(x) for x in X]\n",
    "plt.plot(X,Y)\n",
    "plt.grid(True)\n",
    "plt.show()"
   ]
  },
  {
   "cell_type": "markdown",
   "metadata": {},
   "source": [
    "График зависимости значения интеграла от номера итерации $I(y)$"
   ]
  },
  {
   "cell_type": "code",
   "execution_count": 4,
   "metadata": {
    "collapsed": false
   },
   "outputs": [
    {
     "data": {
      "image/png": "[encoded data removed]",
      "text/plain": [
       "<matplotlib.figure.Figure at 0x5a73770>"
      ]
     },
     "metadata": {},
     "output_type": "display_data"
    }
   ],
   "source": [
    "#y-номер итерации\n",
    "X_y=[]\n",
    "Y_y=[]\n",
    "for y in range(1,10):\n",
    "    X_y.append(y)\n",
    "    Y_y.append(I(y))\n",
    "    \n",
    "plt.plot(X_y,Y_y,'o')\n",
    "plt.grid(True)\n",
    "plt.show()\n"
   ]
  },
  {
   "cell_type": "markdown",
   "metadata": {},
   "source": [
    "### Задание 3: вычислить интеграл $(i=1)$ с помощью функции $numpy.trapz(\\ldots)$ и графически сравнить с результатом из предыдущего задания"
   ]
  },
  {
   "cell_type": "markdown",
   "metadata": {},
   "source": [
    "Вычислим интеграл при $i=1$"
   ]
  },
  {
   "cell_type": "code",
   "execution_count": 5,
   "metadata": {
    "collapsed": false
   },
   "outputs": [
    {
     "name": "stdout",
     "output_type": "stream",
     "text": [
      "I trapz =  [ 0.39819962]\n"
     ]
    }
   ],
   "source": [
    "xtr=[]\n",
    "ytr=[]\n",
    "j=0\n",
    "#нижний предел интегрирования\n",
    "while True:\n",
    "    xtr.append(j)\n",
    "    ytr.append(f(j))\n",
    "    j=j+0.5\n",
    "    if f(j)<0.01:\n",
    "            break\n",
    "It=np.trapz([ytr],x=[xtr]) \n",
    "\n",
    "print(\"I trapz = \",It,)    "
   ]
  },
  {
   "cell_type": "markdown",
   "metadata": {},
   "source": [
    "Графическое сравнение значений интегралов"
   ]
  },
  {
   "cell_type": "code",
   "execution_count": 6,
   "metadata": {
    "collapsed": false
   },
   "outputs": [
    {
     "data": {
      "image/png": "[encoded data removed]",
      "text/plain": [
       "<matplotlib.figure.Figure at 0x5ecf4f0>"
      ]
     },
     "metadata": {},
     "output_type": "display_data"
    },
    {
     "data": {
      "image/png": "[encoded data removed]",
      "text/plain": [
       "<matplotlib.figure.Figure at 0x5f72630>"
      ]
     },
     "metadata": {},
     "output_type": "display_data"
    }
   ],
   "source": [
    "#n - количество интегралов\n",
    "#k = i в исходной формуле\n",
    "n=20\n",
    "\n",
    "def f(x,k):\n",
    "    z=sin(x)*exp(-(x*k)**2)\n",
    "    return z\n",
    "\n",
    "def I(y,k):\n",
    "    z=0\n",
    "    a=0\n",
    "    #y - номер итерации \n",
    "    c=0\n",
    "    s=0\n",
    "    h=2/y \n",
    "    while True:\n",
    "        b=a+h\n",
    "        c=((7*f(a,k))+32*f((3*a+b)/4,k)+12*f((a+b)/2,k)+32*f((a+3*b)/4,k)+7*f(b,k))*(b-a)/90\n",
    "        a=a+h\n",
    "        s=s+c\n",
    "        \n",
    "        if f(b,k)<0.001:\n",
    "            break\n",
    "    z=z+s\n",
    "    return z\n",
    "\n",
    "#Список значений интегралов, решенных методом Буля\n",
    "xb1=[]\n",
    "yb1=[] \n",
    "for k in range(1,n+1):\n",
    "    I0=2\n",
    "    I1=1\n",
    "    y=1\n",
    "    while abs(I1-I0)>0.01:\n",
    "        I0=I(y,k)\n",
    "        I1=I(y+1,k)\n",
    "        y=y+1 \n",
    "    xb1.append(k)\n",
    "    yb1.append(I1)\n",
    "    \n",
    "    \n",
    "#Список значений интегралов trapz    \n",
    "yt1=[]\n",
    "yt2=[]\n",
    "for k in range(1,n+1):\n",
    "    xtr1=[] \n",
    "    ytr1=[]\n",
    "    j=0\n",
    "    #j - нижний предел интегрирования\n",
    "    while True:\n",
    "        xtr1.append(j)\n",
    "        ytr1.append(f(j,k))\n",
    "        j=j+0.5\n",
    "        if f(j,k)<0.01:\n",
    "            break\n",
    "    It1=np.trapz([ytr1],x=[xtr1])\n",
    "    yt1.append(It1)\n",
    "    yt2.append(yb1[k-1]-It1)\n",
    "\n",
    "\n",
    "\n",
    "plt.plot(xb1,yb1,'o', xb1,yt1,'o')\n",
    "plt.grid(True)\n",
    "plt.show()\n",
    "#разность решений\n",
    "plt.plot(xb1,yt2)\n",
    "plt.grid(True)\n",
    "plt.show()  "
   ]
  },
  {
   "cell_type": "markdown",
   "metadata": {},
   "source": [
    "### Задание 4: решить систему уравнений методом релаксации с относительной точностью 0.001"
   ]
  },
  {
   "cell_type": "markdown",
   "metadata": {},
   "source": [
    "$n^2\\cdot x_{i}=\\sum_{j=1}^n \\frac{j+4\\cdot sin(j)}{1+2\\cdot i^2 +j^4}\\cdot x_j + \\int\\limits_0^\\infty sin(t)\\cdot e^{-i^2t^2}\\,dt$, где $n$ - число уравнений системы."
   ]
  },
  {
   "cell_type": "markdown",
   "metadata": {},
   "source": [
    "Дана система: $A\\cdot x=b$. Для итерационного метода решения системы правило построения элементов итерационной последовательности имеет следующий вид: $x^{k+1}=T_k \\cdot x^k + H_k \\cdot b$, где $T_k=E-H_k \\cdot A$, $H_k$ $-$ последовательность невырожденных матриц."
   ]
  },
  {
   "cell_type": "markdown",
   "metadata": {},
   "source": [
    "Метод релаксации заключается в том, что итерационный процесс имеет следующий вид в векторной форме: $x^{k+1}=(D+\\tau \\cdot L)^{-1} \\cdot ((1-\\tau)\\cdot D)-\\tau \\cdot R)\\cdot x^k+\\tau \\cdot(D+\\tau \\cdot L)^{-1}\\cdot b$, где $D$ $-$ диагональная матрица, $L$ $-$ нижняя треугольная матрица с нулевыми диагональными элементами, $R$ $-$ верхняя треугольная матрица с нулевыми диагональными элементами, $b$ $-$ вектор-столбец правой части, $\\tau$ $-$ некоторая константа. "
   ]
  },
  {
   "cell_type": "markdown",
   "metadata": {},
   "source": [
    "Видно, что $H_k =\\tau \\cdot(D+\\tau \\cdot L)^{-1}$ и $T_k =(D+\\tau \\cdot L)^{-1} \\cdot ((1-\\tau)\\cdot D)-\\tau \\cdot R)$."
   ]
  },
  {
   "cell_type": "markdown",
   "metadata": {},
   "source": [
    "Выполнено: $L+D+R=A$."
   ]
  },
  {
   "cell_type": "markdown",
   "metadata": {},
   "source": [
    "В заданной системе $A$ $-$ матрица коэффициентов, $b$ $-$ вектор-столбец значений интегралов, $\\tau = 0.1$ (нижняя релаксация).  "
   ]
  },
  {
   "cell_type": "code",
   "execution_count": 7,
   "metadata": {
    "collapsed": false,
    "scrolled": false
   },
   "outputs": [
    {
     "name": "stdout",
     "output_type": "stream",
     "text": [
      "x1 =  4.20684729333e-07\n"
     ]
    }
   ],
   "source": [
    "n=1000\n",
    "#составляем матрциу коэффициентов\n",
    "A=np.zeros((n,n))\n",
    "for i in range(0,n):\n",
    "    for j in range(0,n):\n",
    "        A[i][j]=-((j+1)+4*sin(j+1))/(1+2*(i+1)**2+pow(j+1,4))\n",
    "\n",
    "E=np.eye(n)\n",
    "A=A+E*n**2\n",
    "\n",
    "D=E*A\n",
    "#диагональная\n",
    "\n",
    "b=np.zeros((n, 1))\n",
    "for k in range(1,n):\n",
    "    I0=2\n",
    "    I1=1\n",
    "    y=1\n",
    "    while abs(I1-I0)>0.001:\n",
    "        I0=I(y,k)\n",
    "        I1=I(y+1,k)\n",
    "        y=y+1 \n",
    "    b[k-1][0]=I1\n",
    "\n",
    "L=np.zeros((n, n))\n",
    "for i in range(n):\n",
    "    for j in range(i):\n",
    "        L[i][j]=A[i][j]\n",
    "      \n",
    "t=0.1\n",
    "#нижняя релаксация\n",
    "R=A-D-L\n",
    "H=t*inv(D+t*L)\n",
    "T=dot(H/t,((1-t)*D-t*R))\n",
    "\n",
    "#решения системы\n",
    "X0=np.zeros((n, 1))\n",
    "\n",
    "#итерационный процесс\n",
    "while True:\n",
    "    X1=dot(T,X0)+dot(H,b)\n",
    "    if norm(X0-X1)/norm(X1)<0.001:\n",
    "        break\n",
    "    X0=X1  \n",
    "    \n",
    "print(\"x1 = \", X1[0][0])\n"
   ]
  },
  {
   "cell_type": "markdown",
   "metadata": {},
   "source": [
    "### Задание 5"
   ]
  },
  {
   "cell_type": "markdown",
   "metadata": {},
   "source": [
    "*Решить систему этим же методом для $n=10000$ *"
   ]
  },
  {
   "cell_type": "code",
   "execution_count": 8,
   "metadata": {
    "collapsed": false
   },
   "outputs": [
    {
     "name": "stdout",
     "output_type": "stream",
     "text": [
      "x1 =  4.24345845672e-09\n",
      "4.24388284502e-09\n"
     ]
    }
   ],
   "source": [
    "n=10000\n",
    "\n",
    "#составляем матрциу коэффициентов\n",
    "A=np.zeros((n,n))\n",
    "for i in range(0,n):\n",
    "    for j in range(0,n):\n",
    "        A[i][j]=-((j+1)+4*sin(j+1))/(1+2*(i+1)**2+pow(j+1,4))\n",
    "\n",
    "E=np.eye(n)\n",
    "A=A+E*n**2\n",
    "\n",
    "D=E*A\n",
    "#диагональная\n",
    "\n",
    "b=np.zeros((n, 1))\n",
    "for k in range(1,n):\n",
    "    I0=2\n",
    "    I1=1\n",
    "    y=1\n",
    "    while abs(I1-I0)>0.001:\n",
    "        I0=I(y,k)\n",
    "        I1=I(y+1,k)\n",
    "        y=y+1 \n",
    "    b[k-1][0]=I1\n",
    "\n",
    "L=np.zeros((n, n))\n",
    "for i in range(n):\n",
    "    for j in range(i):\n",
    "        L[i][j]=A[i][j]\n",
    "      \n",
    "t=0.9\n",
    "#верхняя релаксация\n",
    "R=A-D-L\n",
    "H=t*inv(D+t*L)\n",
    "T=dot(H/t,((1-t)*D-t*R))\n",
    "\n",
    "#решения системы\n",
    "X0=np.zeros((n, 1))\n",
    "Hb=dot(H,b)\n",
    "#итерационный процесс\n",
    "while True:\n",
    "    X1=dot(T,X0)+Hb\n",
    "    if norm(X0-X1)/norm(X1)<0.001:\n",
    "        break\n",
    "    X0=X1  \n",
    "    \n",
    "print(\"x1 = \", X1[0][0])\n",
    "S=solve(A,b)\n",
    "print(S[0][0])"
   ]
  },
  {
   "cell_type": "markdown",
   "metadata": {},
   "source": [
    "### Задание 6: построить график решения $X(i)$, а также график зависимости нормы решения от номера итерации предлагаемого метода численного решения системы"
   ]
  },
  {
   "cell_type": "markdown",
   "metadata": {},
   "source": [
    "График зависимости решения $X(i)$"
   ]
  },
  {
   "cell_type": "code",
   "execution_count": 8,
   "metadata": {
    "collapsed": false
   },
   "outputs": [
    {
     "data": {
      "image/png": "[encoded data removed]",
      "text/plain": [
       "<matplotlib.figure.Figure at 0x5fac1d0>"
      ]
     },
     "metadata": {},
     "output_type": "display_data"
    }
   ],
   "source": [
    "n=20\n",
    "#для n=20 еще раз посчитаем значения\n",
    "#составляем матрциу коэффициентов\n",
    "A=np.zeros((n,n))\n",
    "for i in range(0,n):\n",
    "    for j in range(0,n):\n",
    "        A[i][j]=-((j+1)+4*sin(j+1))/(1+2*(i+1)**2+pow(j+1,4))\n",
    "\n",
    "E=np.eye(n)\n",
    "A=A+E*n**2\n",
    "\n",
    "D=E*A\n",
    "#диагональная\n",
    "\n",
    "b=np.zeros((n, 1))\n",
    "for k in range(1,n):\n",
    "    I0=2\n",
    "    I1=1\n",
    "    y=1\n",
    "    while abs(I1-I0)>0.001:\n",
    "        I0=I(y,k)\n",
    "        I1=I(y+1,k)\n",
    "        y=y+1 \n",
    "    b[k-1][0]=I1\n",
    "\n",
    "L=np.zeros((n, n))\n",
    "for i in range(n):\n",
    "    for j in range(i):\n",
    "        L[i][j]=A[i][j]\n",
    "      \n",
    "t=0.1\n",
    "#нижняя релаксация\n",
    "R=A-D-L\n",
    "H=t*inv(D+t*L)\n",
    "T=dot(H/t,((1-t)*D-t*R))\n",
    "\n",
    "#решения системы\n",
    "X0=np.zeros((n, 1))\n",
    "\n",
    "#итерационный процесс\n",
    "while True:\n",
    "    X1=dot(T,X0)+dot(H,b)\n",
    "    if norm(X0-X1)/norm(X1)<0.001:\n",
    "        break\n",
    "    X0=X1  \n",
    "\n",
    "x=np.linspace(1,n,n)\n",
    "plt.plot(x,X1,'o')\n",
    "plt.grid(True)\n",
    "plt.show()"
   ]
  },
  {
   "cell_type": "markdown",
   "metadata": {},
   "source": [
    "График зависимости $||X||$$(y)$, $y$ $-$ номер итерации (норма решения)"
   ]
  },
  {
   "cell_type": "code",
   "execution_count": 9,
   "metadata": {
    "collapsed": false
   },
   "outputs": [
    {
     "data": {
      "image/png": "[encoded data removed]",
      "text/plain": [
       "<matplotlib.figure.Figure at 0x4c512d0>"
      ]
     },
     "metadata": {},
     "output_type": "display_data"
    }
   ],
   "source": [
    "n=100\n",
    "\n",
    "A=np.zeros((n,n))\n",
    "for i in range(0,n):\n",
    "    for j in range(0,n):\n",
    "        A[i][j]=-((j+1)+4*sin(j+1))/(1+2*(i+1)**2+pow(j+1,4))\n",
    "\n",
    "E=np.eye(n)\n",
    "A=A+E*n**2\n",
    "\n",
    "D=E*A\n",
    "\n",
    "b=np.zeros((n, 1))\n",
    "for k in range(1,n):\n",
    "    I0=2\n",
    "    I1=1\n",
    "    y=1\n",
    "    while abs(I1-I0)>0.001:\n",
    "        I0=I(y,k)\n",
    "        I1=I(y+1,k)\n",
    "        y=y+1 \n",
    "    b[k-1][0]=I1\n",
    "\n",
    "L=np.zeros((n, n))\n",
    "for i in range(n):\n",
    "    for j in range(i):\n",
    "        L[i][j]=A[i][j]\n",
    "      \n",
    "t=0.1\n",
    "R=A-D-L\n",
    "H=t*inv(D+t*L)\n",
    "T=dot(H/t,((1-t)*D-t*R))\n",
    "\n",
    "\n",
    "norma=[]\n",
    "it_y=[]\n",
    "X0=np.zeros((n, 1))\n",
    "y=1\n",
    "while True:\n",
    "    X1=dot(T,X0)+dot(H,b)\n",
    "    norma.append(norm(X1))\n",
    "    it_y.append(y)\n",
    "    y=y+1\n",
    "    if norm(X0-X1)/norm(X1)<0.001:\n",
    "        break\n",
    "    X0=X1\n",
    "plt.plot(it_y,norma,'o')\n",
    "plt.grid(True)\n",
    "plt.show()\n",
    "    "
   ]
  },
  {
   "cell_type": "markdown",
   "metadata": {},
   "source": [
    "### Задание 7: решить систему с использованием встроенной функции $numpy.linalg.solve(\\ldots)$, результат графически сравнить с заданным методом"
   ]
  },
  {
   "cell_type": "code",
   "execution_count": 10,
   "metadata": {
    "collapsed": false
   },
   "outputs": [
    {
     "name": "stdout",
     "output_type": "stream",
     "text": [
      "метод релаксации: t = 0.05900311470031738\n",
      "solve: t = 0.09300541877746582\n"
     ]
    },
    {
     "data": {
      "image/png": "[encoded data removed]",
      "text/plain": [
       "<matplotlib.figure.Figure at 0x5fac610>"
      ]
     },
     "metadata": {},
     "output_type": "display_data"
    }
   ],
   "source": [
    "n=30\n",
    "A=np.zeros((n,n))\n",
    "for i in range(0,n):\n",
    "    for j in range(0,n):\n",
    "        A[i][j]=-((j+1)+4*sin(j+1))/(1+2*(i+1)**2+pow(j+1,4))\n",
    "\n",
    "b=np.zeros((n, 1))\n",
    "for k in range(1,n):\n",
    "    I0=2\n",
    "    I1=1\n",
    "    y=1\n",
    "    while abs(I1-I0)>0.01:\n",
    "        I0=I(y,k)\n",
    "        I1=I(y+1,k)\n",
    "        y=y+1 \n",
    "    b[k-1][0]=I1\n",
    "\n",
    "E=np.eye(n)\n",
    "A=A+E*n**2\n",
    "\n",
    "#сравним время, затрачиваемое на решение заданным методом и встроенной функцией\n",
    "tic1=time() \n",
    "D=E*A\n",
    "\n",
    "L=np.zeros((n, n))\n",
    "for i in range(n):\n",
    "    for j in range(i):\n",
    "        L[i][j]=A[i][j]\n",
    "      \n",
    "t=0.1\n",
    "R=A-D-L\n",
    "H=t*inv(D+t*L)\n",
    "T=dot(H/t,((1-t)*D-t*R))\n",
    "\n",
    "\n",
    "X0=np.zeros((n,1))\n",
    "while True:\n",
    "    X1=dot(T,X0)+dot(H,b)\n",
    "    if norm(X0-X1)/norm(X1)<0.001:\n",
    "        break\n",
    "    X0=X1   \n",
    "\n",
    "toc1=time() \n",
    "print('метод релаксации: t =', toc1-tic1)\n",
    "\n",
    "#решение с использованием solve\n",
    "tic2=time() \n",
    "So=solve(A,b)\n",
    "toc2=time() \n",
    "print('solve: t =', toc2-tic2)\n",
    "\n",
    "xx=np.linspace(1,n,n)\n",
    "plt.plot(xx,X1,'o',xx, So, 'o')\n",
    "plt.grid(True)\n",
    "plt.show()\n",
    "\n"
   ]
  },
  {
   "cell_type": "markdown",
   "metadata": {},
   "source": [
    "Выполнила: Тюрина Анастасия, 431 группа"
   ]
  }
 ],
 "metadata": {
  "anaconda-cloud": {},
  "kernelspec": {
   "display_name": "Python [Root]",
   "language": "python",
   "name": "Python [Root]"
  },
  "language_info": {
   "codemirror_mode": {
    "name": "ipython",
    "version": 3
   },
   "file_extension": ".py",
   "mimetype": "text/x-python",
   "name": "python",
   "nbconvert_exporter": "python",
   "pygments_lexer": "ipython3",
   "version": "3.5.2"
  }
 },
 "nbformat": 4,
 "nbformat_minor": 0
}

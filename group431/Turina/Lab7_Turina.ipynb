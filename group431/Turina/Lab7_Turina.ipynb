{
 "cells": [
  {
   "cell_type": "markdown",
   "metadata": {
    "collapsed": false
   },
   "source": [
    "# Лабораторная работа 7: задача Коши"
   ]
  },
  {
   "cell_type": "markdown",
   "metadata": {},
   "source": [
    "### Задание 1: решить дифференциальное уравнение методом Тейлора 4 порядка"
   ]
  },
  {
   "cell_type": "markdown",
   "metadata": {},
   "source": [
    "*Задана задача Коши: $\n",
    "\\begin{gather}\n",
    "   y'(x)=f(x,y(x)), x\\in(a,b)\\\\\n",
    "  y(a)=y^0\n",
    "\\end{gather}\n",
    "$, где $y(x) - $вектор: $y(x)=(y_1(x),\\ldots,y_n(x))$, $y_0 - $заданный начальный вектор"*
   ]
  },
  {
   "cell_type": "markdown",
   "metadata": {},
   "source": [
    "*При численном решении ищется последовательность векторов $ \\lbrace y_n \\rbrace $, являющихся приближениями для значений решения $ \\lbrace y(x_n) \\rbrace$ на множестве точек сетки $w_N= \\lbrace x_i: x_{i+1}=x_i+h_i, (i=0,1,\\ldots,N-1), x_0=a, x_N=b \\rbrace$, где $h_i - $шаг сетки (будем считать его постоянным и равным $h$)*"
   ]
  },
  {
   "cell_type": "markdown",
   "metadata": {},
   "source": [
    "*Метод Тейлора приближенного решения в точке $x_{n+1}$ основан на разложении решения в ряд Тейлора в точке $x_n$ по степеням шага $h$. Далее, в зависимости от порядка метода, ряд обрывают на некотором слагаемом*."
   ]
  },
  {
   "cell_type": "markdown",
   "metadata": {},
   "source": [
    "*Таким образом, для метода Тейлора 4 порядка, имеем: $y(x_{n+1}) = y(x_n) + h \\cdot y'(x_n) + \\frac{h^2}{2!} \\cdot y''(x_n) + \\frac{h^3}{3!} \\cdot y'''(x_n) + \\frac{h^4}{4!} \\cdot y^{(4)}(x_n)$, где $y'(x)=f(x,y(x)), y''(x)=\\frac{df}{dx}$ и т.д.*"
   ]
  },
  {
   "cell_type": "markdown",
   "metadata": {},
   "source": [
    "Задано дифференциальное уравнение второго порядка: $6y''+8y'+8y=x \\cdot e^{-2 \\cdot x}$ на интервале $x\\in[0,2]$ при следующих начальных условиях: $y(0)=1, y'(0)=0$"
   ]
  },
  {
   "cell_type": "markdown",
   "metadata": {},
   "source": [
    "Сведем уравнение 2 порядка к системме дифференциальных уравнений 1 порядка путем замены: $y_1=y$ и $y_2=y'$.  \n",
    "Получим: \n",
    "$\\begin{gather}\n",
    "   y_1'=y_2=f_1\\\\\n",
    "   y_2'=-\\frac{4y_2}{3} - \\frac{4y_1}{3} + \\frac{x}{6} \\cdot e^{-2x}=f_2\n",
    "\\end{gather}\n",
    "$"
   ]
  },
  {
   "cell_type": "markdown",
   "metadata": {},
   "source": [
    "Введем векторы: $y=(y_1,y_2)$ и $f=(f_1,f_2)$.  \n",
    "Тогда производные в векторной форме запишутся:  \n",
    "$y'=f$  \n",
    "$y''=f_x+f_y \\cdot f$  \n",
    "  \n",
    "$f_x= \\begin{array}{c}\\ \n",
    "(f_1)_x & \\\\\n",
    "(f_2)_x & \n",
    "\\end{array} $ \n",
    "  \n",
    "$f_y= \\begin{array}{cc}\\ \n",
    "(f_1)_{y_1} & (f_1)_{y_2} &\\\\\n",
    "(f_2)_{y_1} & (f_2)_{y_2} &\n",
    "\\end{array} $ (якобиан, в нашем случае это константа $M$)  \n",
    "  \n",
    "$y''=f_x+M \\cdot f$  \n",
    "Аналогично: $y'''=f_{xx}+M \\cdot f_x$ и $y^{(4)}=f_{xxx}+M \\cdot f_{xx}$  "
   ]
  },
  {
   "cell_type": "markdown",
   "metadata": {},
   "source": [
    "Решение ДУ заданным методом (похоже на \"черный ящик\" при условии, что якобиан равен константе, а система имеет вид, близкий к данному. Ниже будет решение в \"черном ящике\" для метода Тейлора 2 порядка для любой системы ДУ)"
   ]
  },
  {
   "cell_type": "code",
   "execution_count": 30,
   "metadata": {
    "collapsed": false
   },
   "outputs": [],
   "source": [
    "import numpy as np\n",
    "from math import exp, sin, cos, sqrt\n",
    "from scipy import *\n",
    "from scipy.linalg import *\n",
    "\n",
    "from sympy import *\n",
    "init_printing()\n",
    "import matplotlib.pyplot as plt\n",
    "import pylab"
   ]
  },
  {
   "cell_type": "markdown",
   "metadata": {},
   "source": [
    "Задаем вектор-функцию $f=(f_1,f_2)$"
   ]
  },
  {
   "cell_type": "code",
   "execution_count": 31,
   "metadata": {
    "collapsed": true
   },
   "outputs": [],
   "source": [
    "def f(x,y1,y2):\n",
    "    f1=y2\n",
    "    f2=-(4/3)*y1-(4/3)*y2+(x/6)*exp(-2*x)\n",
    "    return f1,f2\n",
    "\n",
    "x=Symbol('x')\n",
    "y1=Symbol('y1')\n",
    "y2=Symbol('y2')"
   ]
  },
  {
   "cell_type": "code",
   "execution_count": 38,
   "metadata": {
    "collapsed": false
   },
   "outputs": [],
   "source": [
    "#x00-начальная точка\n",
    "#y0-значение функции y в нуле=y1(0)\n",
    "#y00-значение производной в нуле=y2(0)\n",
    "#h-шаг\n",
    "def F(f,x00,y0,y00,h):\n",
    "    n=0\n",
    "    z1=np.zeros([2,1])\n",
    "    #y'=f\n",
    "    W=np.zeros([2,1])\n",
    "    #матрица f_x, первая компонента которой будет равна 0, поэтому ниже считать ее не будем\n",
    "    W1=np.zeros([2,1])\n",
    "    #матрица f_xx, первая компонента которой будет равна 0, поэтому ниже считать ее не будем\n",
    "    W2=np.zeros([2,1])\n",
    "    #матрица f_xxx, первая компонента которой будет равна 0, поэтому ниже считать ее не будем\n",
    "    while True:\n",
    "        x0=x00\n",
    "        y10=np.array([[y0],[y00]])\n",
    "        #y0 и y00\n",
    "        n=n+1\n",
    "        X=[x0]\n",
    "        Y1=[y0]\n",
    "        #решение y1=y\n",
    "        Y2=[y00]\n",
    "        #решение y2=y'\n",
    "        k=1\n",
    "        S=[y0]\n",
    "        #выборка узлов для сравнения\n",
    "        \n",
    "        m11=diff(f(x,y1,y2)[0],y1).evalf(subs={x:x0,y1:y10[0][0],y2:y10[1][0]})\n",
    "        m12=diff(f(x,y1,y2)[0],y2).evalf(subs={x:x0,y1:y10[0][0],y2:y10[1][0]})\n",
    "        m21=diff(f(x,y1,y2)[1],y1).evalf(subs={x:x0,y1:y10[0][0],y2:y10[1][0]})\n",
    "        m22=diff(f(x,y1,y2)[1],y2).evalf(subs={x:x0,y1:y10[0][0],y2:y10[1][0]})\n",
    "        M=np.array([[m11,m12],[m21,m22]])\n",
    "        #якобиан\n",
    "        \n",
    "        while x0>=0 and x0<=(6-h):\n",
    "        \n",
    "            W[1][0]=diff(f(x,y1,y2)[1],x).evalf(subs={x:x0,y1:y10[0][0],y2:y10[1][0]})\n",
    "            W1[1][0]=diff(f(x,y1,y2)[1],x,x).evalf(subs={x:x0,y1:y10[0][0],y2:y10[1][0]})\n",
    "            W2[1][0]=diff(f(x,y1,y2)[1],x,x,x).evalf(subs={x:x0,y1:y10[0][0],y2:y10[1][0]})\n",
    "            \n",
    "            for i in range(2):\n",
    "                z1[i]=f(x,y1,y2)[i].evalf(subs={x:x0,y1:y10[0][0],y2:y10[1][0]})\n",
    "                #вектор y'\n",
    "            z2=W+dot(M,z1)\n",
    "            #y''\n",
    "            z3=W1+dot(M,W)\n",
    "            #y'''\n",
    "            z4=W2+dot(M,W1)\n",
    "            #y''''\n",
    "            \n",
    "            yn=y10+h*z1+0.5*z2*h**2+(1/6)*z3*h**3+(1/24)*z4*h**4\n",
    "            #итерационный процесс\n",
    "            \n",
    "            y10=yn\n",
    "            x0=x0+h\n",
    "            X.append(x0)\n",
    "            Y1.append(yn[0][0])\n",
    "            Y2.append(yn[1][0])\n",
    "            \n",
    "            #выборка\n",
    "            k=k+1\n",
    "            if k%2!=0:\n",
    "                S.append(yn[0][0])\n",
    "              \n",
    "        \n",
    "        h=h*0.5\n",
    "        S=np.array(S,dtype=np.double)\n",
    "        \n",
    "        #выход из цикла\n",
    "        if n!=1:\n",
    "            Y3=np.array(Y3,dtype=np.double)\n",
    "            if norm(S-Y3)/norm(Y3)<0.01:\n",
    "                break \n",
    "        \n",
    "        Y3=Y1\n",
    "        \n",
    "        \n",
    "    return X,Y1,Y2\n",
    "\n",
    "\n",
    "A=F(f,0,1,0,1)[0]\n",
    "B=F(f,0,1,0,1)[1]\n",
    "C=F(f,0,1,0,1)[2]"
   ]
  },
  {
   "cell_type": "markdown",
   "metadata": {},
   "source": [
    "### Задание 2: сравнение найденного решения с точным"
   ]
  },
  {
   "cell_type": "markdown",
   "metadata": {},
   "source": [
    "Точное решение заданного ДУ: $G(x)=\\frac{x+1}{16} \\cdot e^{-2x}+e^{\\frac{-2x}{3}} \\cdot (\\frac{15}{16} \\cdot cos\\frac{\\sqrt{8}}{3}x +\\frac{33}{16\\sqrt{8}} \\cdot sin\\frac{\\sqrt{8}}{3}x)$"
   ]
  },
  {
   "cell_type": "markdown",
   "metadata": {},
   "source": [
    "Оба решения на одном графике"
   ]
  },
  {
   "cell_type": "code",
   "execution_count": 39,
   "metadata": {
    "collapsed": false
   },
   "outputs": [
    {
     "data": {
      "image/png": "iVBORw0KGgoAAAANSUhEUgAAAXwAAAEACAYAAACwB81wAAAABHNCSVQICAgIfAhkiAAAAAlwSFlz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\nQmCC\n",
      "text/plain": [
       "<matplotlib.figure.Figure at 0x4bec410>"
      ]
     },
     "metadata": {},
     "output_type": "display_data"
    }
   ],
   "source": [
    "def G(a):\n",
    "    g=(1/16)*exp(-2*a)*(a+1)+exp(-2*a/3)*(15/16*cos(sqrt(8/9)*a)+33/(sqrt(8)*16)*sin(sqrt(8/9)*a))\n",
    "    return g                    \n",
    "\n",
    "aa=np.linspace(0,6,50)\n",
    "gg=[G(i) for i in aa]\n",
    "\n",
    "%matplotlib inline\n",
    "plt.plot(aa,gg,A,B)\n",
    "plt.grid(True)\n",
    "plt.show()"
   ]
  },
  {
   "cell_type": "markdown",
   "metadata": {},
   "source": [
    "Разность решений: G(x)-F"
   ]
  },
  {
   "cell_type": "code",
   "execution_count": 50,
   "metadata": {
    "collapsed": false
   },
   "outputs": [
    {
     "data": {
      "image/png": "iVBORw0KGgoAAAANSUhEUgAAAY8AAAEACAYAAABLfPrqAAAABHNCSVQICAgIfAhkiAAAAAlwSFlz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\nTkSuQmCC\n",
      "text/plain": [
       "<matplotlib.figure.Figure at 0x4b0af70>"
      ]
     },
     "metadata": {},
     "output_type": "display_data"
    }
   ],
   "source": [
    "zn=np.array([G(i) for i in A])\n",
    "sn=np.array(B-zn)\n",
    "\n",
    "\n",
    "plt.plot(A,sn)\n",
    "plt.grid(True)\n",
    "plt.show()"
   ]
  },
  {
   "cell_type": "markdown",
   "metadata": {},
   "source": [
    "График производной"
   ]
  },
  {
   "cell_type": "code",
   "execution_count": 41,
   "metadata": {
    "collapsed": false
   },
   "outputs": [
    {
     "data": {
      "image/png": "iVBORw0KGgoAAAANSUhEUgAAAXwAAAEACAYAAACwB81wAAAABHNCSVQICAgIfAhkiAAAAAlwSFlz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\nAZGMEa3eDWTtAAAAAElFTkSuQmCC\n",
      "text/plain": [
       "<matplotlib.figure.Figure at 0x7a5a790>"
      ]
     },
     "metadata": {},
     "output_type": "display_data"
    }
   ],
   "source": [
    "plt.plot(A,C)\n",
    "plt.grid(True)\n",
    "plt.show()"
   ]
  },
  {
   "cell_type": "markdown",
   "metadata": {},
   "source": [
    "Фазовая плоскость: $(y,y')$"
   ]
  },
  {
   "cell_type": "code",
   "execution_count": 42,
   "metadata": {
    "collapsed": false
   },
   "outputs": [
    {
     "data": {
      "image/png": "iVBORw0KGgoAAAANSUhEUgAAAYEAAAEACAYAAABVtcpZAAAABHNCSVQICAgIfAhkiAAAAAlwSFlz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\nQESkgKkIiIgUsP8Pe9cP21hcQK8AAAAASUVORK5CYII=\n",
      "text/plain": [
       "<matplotlib.figure.Figure at 0x4ea0b10>"
      ]
     },
     "metadata": {},
     "output_type": "display_data"
    }
   ],
   "source": [
    "plt.plot(B,C)\n",
    "plt.grid(True)\n",
    "plt.show()"
   ]
  },
  {
   "cell_type": "markdown",
   "metadata": {},
   "source": [
    "### Задание 3: решение ДУ методом Тейлора 2 порядка в режиме \"черного ящика\""
   ]
  },
  {
   "cell_type": "code",
   "execution_count": 51,
   "metadata": {
    "collapsed": true
   },
   "outputs": [],
   "source": [
    "def f(x,y1,y2):\n",
    "    f1=y2\n",
    "    f2=-(4/3)*y1-(4/3)*y2+(x/6)*exp(-2*x)\n",
    "    return f1,f2\n",
    "\n",
    "x=Symbol('x')\n",
    "y1=Symbol('y1')\n",
    "y2=Symbol('y2')"
   ]
  },
  {
   "cell_type": "code",
   "execution_count": 52,
   "metadata": {
    "collapsed": true
   },
   "outputs": [],
   "source": [
    "#x00-начальная точка\n",
    "#y0-значение функции y в нуле=y1(0)\n",
    "#y00-значение производной в нуле=y2(0)\n",
    "#h-шаг\n",
    "def F(f,x00,y0,y00,h):\n",
    "    n=0\n",
    "    z1=np.zeros([2,1])\n",
    "    #y'=f\n",
    "    W=np.zeros([2,1])\n",
    "    #матрица f_x\n",
    "    while True:\n",
    "        x0=x00\n",
    "        y10=np.array([[y0],[y00]])\n",
    "        #y0 и y00\n",
    "        n=n+1\n",
    "        X=[x0]\n",
    "        Y1=[y0]\n",
    "        #решение y1=y\n",
    "        Y2=[y00]\n",
    "        #решение y2=y'\n",
    "        k=1\n",
    "        S=[y0]\n",
    "        #выборка узлов для сравнения\n",
    "        \n",
    "        while x0>=0 and x0<=(6-h):\n",
    "            m11=diff(f(x,y1,y2)[0],y1).evalf(subs={x:x0,y1:y10[0][0],y2:y10[1][0]})\n",
    "            m12=diff(f(x,y1,y2)[0],y2).evalf(subs={x:x0,y1:y10[0][0],y2:y10[1][0]})\n",
    "            m21=diff(f(x,y1,y2)[1],y1).evalf(subs={x:x0,y1:y10[0][0],y2:y10[1][0]})\n",
    "            m22=diff(f(x,y1,y2)[1],y2).evalf(subs={x:x0,y1:y10[0][0],y2:y10[1][0]})\n",
    "            M=np.array([[m11,m12],[m21,m22]])\n",
    "            #якобиан\n",
    "            \n",
    "            W[0][0]=diff(f(x,y1,y2)[0],x).evalf(subs={x:x0,y1:y10[0][0],y2:y10[1][0]})\n",
    "            W[1][0]=diff(f(x,y1,y2)[1],x).evalf(subs={x:x0,y1:y10[0][0],y2:y10[1][0]})\n",
    "            \n",
    "            \n",
    "            for i in range(2):\n",
    "                z1[i]=f(x,y1,y2)[i].evalf(subs={x:x0,y1:y10[0][0],y2:y10[1][0]})\n",
    "                #вектор y'\n",
    "            z2=W+dot(M,z1)\n",
    "            #y''\n",
    "            \n",
    "            yn=y10+h*z1+0.5*z2*h**2\n",
    "            #итерационный процесс\n",
    "            \n",
    "            y10=yn\n",
    "            x0=x0+h\n",
    "            X.append(x0)\n",
    "            Y1.append(yn[0][0])\n",
    "            Y2.append(yn[1][0])\n",
    "            \n",
    "            #выборка\n",
    "            k=k+1\n",
    "            if k%2!=0:\n",
    "                S.append(yn[0][0])\n",
    "              \n",
    "        \n",
    "        h=h*0.5\n",
    "        S=np.array(S,dtype=np.double)\n",
    "        \n",
    "        #выход из цикла\n",
    "        if n!=1:\n",
    "            Y3=np.array(Y3,dtype=np.double)\n",
    "            if norm(S-Y3)/norm(Y3)<0.01:\n",
    "                break \n",
    "        \n",
    "        Y3=Y1\n",
    "        \n",
    "    return X,Y1,Y2\n",
    "\n",
    "\n",
    "A2=F(f,0,1,0,1)[0]\n",
    "B2=F(f,0,1,0,1)[1]\n",
    "C2=F(f,0,1,0,1)[2]"
   ]
  },
  {
   "cell_type": "markdown",
   "metadata": {},
   "source": [
    "Сравним найденное решение с точным"
   ]
  },
  {
   "cell_type": "code",
   "execution_count": 53,
   "metadata": {
    "collapsed": false
   },
   "outputs": [
    {
     "data": {
      "image/png": "iVBORw0KGgoAAAANSUhEUgAAAXwAAAEACAYAAACwB81wAAAABHNCSVQICAgIfAhkiAAAAAlwSFlz\nAAALEgAACxIB0t1+/AAAIABJREFUeJzt3Xl4VPXZxvHvk5CQsCUk7AQMOwqBgALu4lawtS61KqhV\ncLcqalVwAQGlIlYUEUTcWKyK1Wq1KooLYHmpgEJYw06AsAuyJwLJ7/2DsU2RZUImc2bO3J/r4jJn\n+HHO8zjwzMw9Z86Ycw4REfG/OK8LEBGR8NDAFxGJERr4IiIxQgNfRCRGaOCLiMQIDXwRkRgRkoFv\nZq+Z2SYzm3eUNcPNbJmZ5ZhZdiiOKyIiwQvVM/wxQJcj/aaZXQQ0cc41A24DXgrRcUVEJEghGfjO\nuWnAj0dZcikwPrB2BpBiZrVDcWwREQlOuDL8+sDaEtvrAreJiEiY6E1bEZEYUSFMx1kHNCixnRG4\n7RfMTBf3EREpJeecHWtNKJ/hW+DX4XwEXA9gZqcC251zm460I+ccB4oO8MHMGVz23OPU7HMG9nAK\nlwx4hX37inHOReWv/v37e16D+lN/6s9/v4IVkmf4ZvYW0BlIN7M1QH8g8eDsdi875z41s1+b2XJg\nD9DzWPuMj4vnsg4duaxDR6Afkxcs4rfjr6bu3V/y1X2jadsiJRSlh1VeXp7XJZQr9Rfd1J//hWTg\nO+euCWLNXWU5xrmtT2LTEzO5cOifaD+6Pf1OnED/mztgx3wRIyIiEGVv2laumMz0R0Yx5IIhDFr5\nG9rdOZSt24q9LitoPXr08LqEcqX+opv68z8rTf4TDmbmgqlp8cY8Oo/ozo6N1Xmn2zguuaBmGKoT\nEYk8ZoYL85u2YdWyTiZrB37Dbzu05fLP2vPmxGVel3RMU6ZM8bqEcqX+opv687+oHfgACfEJ/O22\nwdzb7jGu/6Irk6Zv9LokEZGIFbWRzqGuHT2Ivy14j+m3TKVDm+g7g0dE5HgFG+n4ZuA757jgubv5\nv6ULmdd7Is0bJ5VDdSIikcf3Gf6hzIxJ9z5PywY1OfnP17FxU5HXJf2C3zNE9Rfd1J//+Wbgw8EP\na83o8wY1Mn4k66G72LEjsl69iIh4yTeRTkk7CnfSdNA5VM6/nNxRj5GcHKLiREQiUMxFOiWlJFVj\nbu+JbK0/nrPuG02EPaaJiHjClwMfoF61Onx75+fMrd6fPiOneV0O4P8MUf1FN/Xnf74d+ACt6jVh\n+AWvMnTVdXybs93rckREPOXLDP9Q5z1zF7MX/8D64W9TqZKutiYi/hLTGf6hPu71F6i1gIsfHe91\nKSIinomJgV8pMZlPb3qbqUkPMOKt5Z7V4fcMUf1FN/XnfzEx8AFOb5LFfe0e475p3Vm2cp/X5YiI\nhF1MZPg/c85x0qCL2bW8DXmvDaZCuL7RV0SkHCnDPwwzY/K9Y/ghYxw9Bn7tdTkiImEVUwMfoE7V\nWoy9fAxvF97Ah19sDeux/Z4hqr/opv78L+YGPkC3U7pwSeOruHbCLezdG1mRlohIeYmpDL+knw78\nRK1+7Tk/fgDvD7qy3I8nIlJelOEfQ8UKFRl35Wg+/Ole/j1nh9fliIiUu5gd+ACXtT+TU2tcxO9G\n9KW4uPyP5/cMUf1FN/XnfzE98AH+cecQttZ+l0dGzvK6FBGRchWzGX5JT34ynsc+HcbKh2fSMEMn\n54tIdIm577QtC+ccjQacT+qmS8h56d6wHltEpKz0pm0pmBkf3jKK+dUHMfb9/HI7jt8zRPUX3dSf\n/2ngB7TNaMG1ze7kj//sxe7dXlcjIhJ6IYl0zKwrMIyDDyCvOeeGHPL71YC/Ag2BeGCoc27sEfYV\n9kjnZ4UHCqnVvw3n7h/Kh0//1pMaRERKK2yRjpnFASOALkAroLuZtTxk2Z3AQudcNnAuMNTMIu7d\n0aQKSYz5/Yt8XHwX02ft8bocEZGQCkWk0xFY5pxb7ZzbD0wALj1kjQOqBn6uCmx1zh0IwbFD7op2\nF3BKzbO4etSAkH/5ud8zRPUX3dSf/4Vi4NcH1pbYzg/cVtII4CQzWw/MBe4JwXHLzT/ueJYNdcYy\n/K3FXpciIhIyZc7wzewKoItz7tbA9nVAR+dcr0PWnO6cu9/MmgBfAG2cc794e9TLDL+kO94Yyrip\nk9k24mOSkryuRkTkyILN8EORo6/j4JuxP8sI3FZST2AwgHNuhZmtAloC3x1uhz169CAzMxOA1NRU\nsrOz6dy5M/Dfl2XlvT2s+128kTuKy+/8C33+0CHsx9e2trWt7SNt//xzXl4epeKcK9MvDp51sxw4\nAUgEcoATD1kzEugf+Lk2ByOgtCPsz0WKUZM/cPF3t3Jr8veHZH+TJ08OyX4ilfqLbuovegXm5jHn\ndZkzfOdcEXAXMAlYCExwzuWa2W1mdmtg2SDgdDObx8E4p7dzbltZj13ebjvnUuql1uTqIa96XYqI\nSJnp0grHMG15Due80pWvL1/COaemeF2OiMgv6NIKIXJm02xOq/Ebrh3955CfpikiEk4a+EGYcMsg\nNtZ9nRFvrizTfkq+4eJH6i+6qT//08APQkZqXXq0+BMPfdWbggKvqxEROT7K8INUsL+AGgNOpHvy\neF7te7bX5YiI/Icy/BBLTkjmyfOeYuyG+1i3PgzfhygiEmIa+KXQ67yrqZVWkeueGX9cf97vGaL6\ni27qz/808EvBzBjb7Tm+ie/L3EV7vS5HRKRUlOEfhzZPXE3x+mwWjHrY61JERJThl6c3bxxEbupQ\nPv9mq9eliIgETQP/OGTVb8bZ6Vdx87jBpfowlt8zRPUX3dSf/2ngH6c3bn6MDbXHMPaDNV6XIiIS\nFGX4ZXD1S/2YNCOfH14dQ3y819WISKxShh8GL/d4kD11P+Wp1xd4XYqIyDFp4JdBSlI17sh6mEH/\nfoTCwmOv93uGqP6im/rzPw38Mnr6yjuwuvO4//lpXpciInJUyvBDYMjEN+j74UtsenIaaWnHjNFE\nREJKGX4YPdDlGqrV2MXNz3zkdSkiIkekgR8C8XHxDLv4KT7c/TCr1x444jq/Z4jqL7qpP//TwA+R\n6zpdRL3Umtzw7PFdWE1EpLwpww+hzxd+y6/HXMm8W5bRqkWS1+WISIxQhu+BLq1OpXnVk7l++Civ\nSxER+QUN/BAbe/0gcqoM4d/f7/rF7/k9Q1R/0U39+Z8Gfoh1atSadikX0nP0MK9LERH5H8rwy8Gi\nDSvIGt6JT7ouoes56V6XIyI+pwzfQyfVbcJZ6Vdy6/ghpbp8sohIedLALyfjbuzLutqv8c6n6/9z\nm98zRPUX3dSf/2ngl5MT0urzm7o30eu9QXqWLyIRQRl+Odqyeyt1n2zB8DYz+WO3xl6XIyI+pQw/\nAtSskk73xr145PMBFBV5XY2IxLqQDHwz62pmi81sqZn1OcKazmY2x8wWmNnkUBw3Goy87j721p3E\nkDELfJ8hqr/opv78r8wD38zigBFAF6AV0N3MWh6yJgUYCVzsnGsNXFnW40aLaklVua1VH/48vR/7\n93tdjYjEsjJn+GZ2KtDfOXdRYPshwDnnhpRYcwdQ1zn3WBD7802G/7PCA4VUf6wZd9f+O0/f09Hr\nckTEZ8KZ4dcH1pbYzg/cVlJzIM3MJpvZLDP7QwiOGzWSKiRx/ymP8fyCR9i71+tqRCRWVQjjcdoD\n5wGVgX+b2b+dc8sPt7hHjx5kZmYCkJqaSnZ2Np07dwb+m8NF23b/S3sw9O8DuPreZ7n/mvae11Me\n2yUz0kioR/2pP7/29/PPeXl5lEaoIp0Bzrmuge3DRTp9gCTn3MDA9qvAROfc3w+zP99FOj+7/el+\nvLbqS7YMnk5qqv++CnHKlCn/+YvpR+ovuvm5v2AjnVAM/HhgCXA+sAGYCXR3zuWWWNMSeAHoClQE\nZgBXO+cWHWZ/vh34xa6Y9Eez6Zr4Z94e8FuvyxERnwhbhu+cKwLuAiYBC4EJzrlcM7vNzG4NrFkM\nfA7MA74FXj7csPe7OIvj6S5/5t2tj7J5S7HX5YhIjAnJefjOuc+ccy2cc82cc08FbhvtnHu5xJpn\nnHOtnHNtnHMvhOK40WbKlCncfPbFpFerxI3PvuN1OSFXMl/0I/UX3fzeXzD0SdswMzNeuOxJJhY+\nxup8nZgvIuGja+l45IR+F9Bo79VMGXqL16WISJTTtXQi3MtX/5l/2RPkLiv0uhQRiREa+GFUMkPs\n0roTzaq05/rhL3lXUIj5PSNVf9HN7/0FQwPfQ2Ouf4LvKz3FrLm//MJzEZFQU4bvsXaDrmXfuhNZ\nOKqv16WISJRShh8l3rhxIItTh/Hl/23zuhQR8TkN/DA6XIbYul5Tzqh+BTePGfLLPxBl/J6Rqr/o\n5vf+gqGBHwHG3dSPtbVe/Z8vPBcRCTVl+BHi4uEPMitnNxtfG4X577pqIlKOlOFHmTE3PsTWOu/y\n4jvLvC5FRHxKAz+MjpYh1qySzjWN7+ORL/pF7Ree+z0jVX/Rze/9BUMDP4K8+Id7Kaz9DU+8Otvr\nUkTEh5ThR5j7J7zIi199xPYRn1GxotfViEg0UIYfpQZfeTNxNZbxwIjJXpciIj6jgR9GwWSIifGJ\n9D3jCUaveJidO6PrlY7fM1L1F9383l8wNPAjUJ/fdKNySgG3D/vQ61JExEeU4UeoV6d+yu3vP8C6\nvvOoXbOC1+WISARThh/lbjr7ImpVqcn1Q9/wuhQR8QkN/DAqTYZoZrz0+8F8eaA/S1ZEx5ek+D0j\nVX/Rze/9BUMDP4Jd0u50mlZpx7XPjfK6FBHxAWX4EW7GqgWcPvo8plyxlLM6pHpdjohEIGX4PtGp\nUWs6pf6W619+yutSRCTKaeCH0fFmiG/d+jhrar7Cmx+vCW1BIeb3jFT9RTe/9xcMDfwokJlWn8vq\n/5G7/9GX4mKvqxGRaKUMP0rsKNxJzceb07/pRB69sZ3X5YhIBFGG7zMpSdW4s/VjDJrRm8JCPSCK\nSOlp4IdRWTPEp6++hfi0NfR64fPQFBRifs9I1V9083t/wQjJwDezrma22MyWmlmfo6zrYGb7zex3\noThurEmIT+DJc4fw+toH2botSr8lRUQ8U+YM38zigKXA+cB6YBbQzTm3+DDrvgAKgNedc+8fYX/K\n8I/COUedR87ilPib+GRQT6/LEZEIEM4MvyOwzDm32jm3H5gAXHqYdXcD7wGbQ3DMmGVmvHLlM0z8\nqR9LV+31uhwRiSKhGPj1gbUltvMDt/2HmdUDLnPOjQKO+SjkV6HKEC9pfyotkk/nqueeC8n+QsXv\nGan6i25+7y8Y4bru7jCgZLZ/1KHfo0cPMjMzAUhNTSU7O5vOnTsD/73TYn17wi2DaTeyE08PP4mO\nbap7Xo+2ta3t8G3//HNeXh6lEYoM/1RggHOua2D7IcA554aUWLPy5x+BGsAe4Fbn3EeH2Z8y/CBd\nMPQeFi46wPpXR2Ix+7pJRILN8EMx8OOBJRx803YDMBPo7pzLPcL6McA/9aZt2W3a9QMZg09icMvJ\nPHB9K6/LERGPhO1NW+dcEXAXMAlYCExwzuWa2W1mduvh/khZjxmtSr4cC4XaVWtwR6u+9Jt2H3v3\nev+/NdT9RRr1F9383l8wQnIevnPuM+dcC+dcM+fcU4HbRjvnXj7M2huP9OxeSm9otztISM/ntmc/\n9roUEYlwupaOD4z51+fc/P5drLh/AZkZFb0uR0TCTNfSiSE9z+pCZpWWXPXMcK9LEZEIpoEfRuWZ\nIf7tpqF8lzSEL/69sdyOcSx+z0jVX3Tze3/B0MD3iZMzm3N+ek+uH/soSsRE5HCU4fvI1t07qDOo\nJYOzPuaBa0/2uhwRCRNl+DEovUoKd7d+gn7T79E180XkFzTwwygcGeJfrulJxSp76fHMO+V+rEP5\nPSNVf9HN7/0FQwPfZ+Lj4hl9+fO8u703i1foapoi8l/K8H0qa2A3DmxsQe6ogV6XIiLlTBl+jPv7\nHU+zNHUkr3+wwutSRCRCaOCHUTgzxOa1GnJDs97cPfEuCgrC84rJ7xmp+otufu8vGBr4Pjb6hvuI\nT1tLz2fe87oUEYkAyvB97t0Z0+j2XjdybllEVvNqXpcjIuUgbNfDDzUN/NA7+fGb2L6pKitGDvO6\nFBEpB3rTNgJ5lSF+dPcQVld9m+HvzinX4/g9I1V/0c3v/QVDAz8G1K9eg7tPepLeU29nz94ir8sR\nEY8o0okRxa6YWn3O5rTK1/HP/rd7XY6IhJAiHfkfcRbHW9eM4pOCfvzf3E1elyMiHtDADyOvM8Rf\nZWdxbmpPfjfqAYqLQ79/r/srb+ovuvm9v2Bo4MeY9+95jO2p3/CnEV97XYqIhJky/Bj0whcfcu+n\nD7L4nhyaZVbyuhwRKSOdhy9H1XpgNwo2ZrD8xWewY/41EZFIpjdtI1AkZYif3/MCa1Le5Imx00O2\nz0jqrzyov+jm9/6CoYEfo+qn1uTx017g8bk3snZjgdfliEgYKNKJcc0fvYqEPZksHPa016WIyHFS\npCNB+fyeESxJGs9z737rdSkiUs408MMoEjPERrVq8XD2cHpP78mWHwvLtK9I7C+U1F9083t/wdDA\nFx6/+krqJ7Siy+ABXpciIuUoJBm+mXUFhnHwAeQ159yQQ37/GqBPYHMXcIdzbv4R9qUM3wNL1m3i\npOFtea7jP+l1RQevyxGRUghbhm9mccAIoAvQCuhuZi0PWbYSONs51xYYBLxS1uNKaLWoX5uH2j3H\n/d/0YP3mn7wuR0TKQSginY7AMufcaufcfmACcGnJBc65b51zOwKb3wL1Q3DcqBPpGeKgq7txQtXm\nnDtwAMfzIivS+ysr9Rfd/N5fMEIx8OsDa0ts53P0gX4zMDEEx5UQMzO+uu8lVlYdy8Ojp3hdjoiE\nWJkzfDO7AujinLs1sH0d0NE51+swa8/lYPxzpnPuxyPsz91www1kZmYCkJqaSnZ2Np07dwb++yit\n7fLb/vC7mQzf+AIzb8ph16b5ntejbW1r+3+3f/45Ly8PgHHjxoXnWjpmdiowwDnXNbD9EOAO88Zt\nG+DvQFfn3Iqj7E9v2kaAzk8+wPx1y9k47AMSEnSxHZFIFs4PXs0CmprZCWaWCHQDPjqkmIYcHPZ/\nONqw97uSj86R7rMHn2R/cj5XPDUq6D8TTf0dD/UX3fzeXzDKPPCdc0XAXcAkYCEwwTmXa2a3mdmt\ngWX9gDTgRTObY2Yzy3pcKV9JCYl80vNtPt7Tn7e/OuwZtCISZXQtHTmqO18ez6u5Q8jvP4uaqbp2\nvkgk0vXwJSScczR58A9UtCrk/uUlr8sRkcPQxdMiUDRmiGbGvx56kRXuS+4c+fejro3G/kpD/UU3\nv/cXDA18Oab6Naox/rK3GLXmj0ycvsbrckTkOCnSkaBdM/Jp3l/0D1YPnEztGhW9LkdEApThS8gV\nu2KaPfp7Duysyarho4nT60ORiKAMPwJFe4YYZ3HMfHgcW5KmccXg0b/4/Wjv71jUX3Tze3/B0MCX\nUkmvWpXPb/yQj3Y+xvMfTPO6HBEpBUU6clwGv/cZfWfexLc3z6BD8wyvyxGJacrwpdx1fWII0378\nO+sHfUO1SklelyMSs5ThRyC/ZYifPNKblKJGdBh4O8XFznf9HUr9RTe/9xcMDXw5bvHxxvf9X2fN\n/jlc/tQLXpcjIsegSEfKbHruKs4aexp9T3yLgT3O87ockZijSEfC5vQTGzHqgrd4Irc7f520wOty\nROQINPDDyM8Z4q0XnsdV8bdwwxcX8c3c1V6XUy78fP+B+osFGvgSMrf/6gIur30/F47ryrJ1P3hd\njogcQhm+hFzHRx5iceEU8gZ+RVrVyl6XI+J7Og9fPFNU5Gj8p54cqLiZVU9+SGKFBK9LEvE1vWkb\ngfyeIf7cX3y8MW/QK+zdE0d2/5spLvbHA3is3H9+5ff+gqGBL+UipWoCC/r/jdW7l3LaYw+hF20i\n3lOkI+VqWf5Wsp47izOr9OTLgQ96XY6ILynSkYjQLCOdb+/8nH/teZkLHx/sdTkiMU0DP4z8niEe\nqb/sxg2YccdUvtk+nvMHPUa0voKL1fvPL/zeXzA08CUsspvUY9adU5n2w4ecN7h31A59kWimDF/C\nav7ybZzy/K84tf5pTO7zPHGm5xwiZaUMXyJSVtM0vuv1FTPWfk+nJ27jQFGR1yWJxAwN/DDye4YY\nbH9ZzVKY3/tzcrcs5aRHe/DT/gPlW1iI6P6Lbn7vLxga+OKJZidUZfmAiWwt3ERm7yvZsn2P1yWJ\n+J4yfPHUrr0/kd3vdjaSw/S7PqJtowZelyQSdcKa4ZtZVzNbbGZLzazPEdYMN7NlZpZjZtmhOK5E\nv6qVKrLsL6/TKflaTn7pVN6f+a3XJYn4VpkHvpnFASOALkAroLuZtTxkzUVAE+dcM+A24KWyHjca\n+T1DPN7+4uKMrwc9wM21R3Pl+5cw6KM3Q1tYiOj+i25+7y8YoXiG3xFY5pxb7ZzbD0wALj1kzaXA\neADn3Awgxcxqh+DY4iMv/elihrb5mv5T+nHJ849Q7Iq9Lkkk4pUmAS9zhm9mVwBdnHO3BravAzo6\n53qVWPNPYLBzbnpg+0ugt3Nu9mH2pww/xk2ZtYWLxl5BnarpzHrkDWpUq+J1SSLlyjnYun0fS/N/\nYPXmbeRv3caG7dvYtHMbP+zZxraCbezYt429RTspKN5Boe1gv+2kqMIOihN2wpDtQWX4FcLRjEhp\ndO5Qk7VNv6TjwD+SMbAjf+v2Jpd0aOd1WSKl4hxs3LaH+as2sDh/Ays2b2TNtg2s37mRbT9tZseB\nLexlM4XxWyiquAUSCoj/KZ2EA+kkuTQqx6VRtUIaqRXTqJWaxkmVG5BeNYWaVatRq1oKdaqnUDet\nGvXTU6gzJC2omkIx8NcBDUtsZwRuO3RNg2Os+Y8ePXqQmZkJQGpqKtnZ2XTu3Bn4bw4XjdslM8RI\nqCfS+1vx3Ktc9Me+XPrsuVzX+WHG3vIA//rmX77pL9K21V/w2+eccw5rNm9n7Dvvs2rzFvanV2f1\nj/msWjKLnUVb+KnhHvYnrYe1hcTtS6dKvcZUi6tL4oYiqiencWa7TmRUr0Xh+rXUS0vlqssvpl71\nVKZOnRrU8aGIKR+/T15eHqURikgnHlgCnA9sAGYC3Z1zuSXW/Bq40zn3GzM7FRjmnDv1CPvzbaQz\nZcqU/9xxflRe/f3zmzVc+fb11KjhmNxrPM1qnhDyYwRD9190K21/W3bu5F8LV/D98jxyN+aR92Me\nGwvz+JE8CpPyAEfFwoZULW5AWkIG9ao0ILN6Bi3qNqB1w/q0bVyPjBopmB0zaSmzsH7FoZl1BZ7n\n4JvArznnnjKz2wDnnHs5sGYE0BXYA/Q8XH4fWOfbgS/Hb8sPRZzz0LMsq/UXBp7+LA//5tqw/EMS\nf9u8czuT5y1lxrLlLNywnFU7lrP5wHJ2JSynOH4PiXsak+IaU7tiJpmpmbSolUl2ZiadWmTSNKM6\nkfJXUN9pK75TXAwDXsrhySXX0jwliy/vG0W96tW9LksiXFFxETmrV/HV3CV8t2oxS7YuIb9wCTsq\nLKEobg8VdzcnjWY0qNyUZjWa0K5hU05v2ZSTW9QhMTFCJvoxaOBHIL1kDo1V+QV0efohVlZ6h3uy\nnuDp7jcSHxdf7sfV/RfZioqLmLN6JZNyFjJz5SIWb13Iuv2L2F1xCVZQk0ora9Ow0Wk0S2tB+4Yt\nOLtVS05rVY+kpOgY6kcT7MDXWToSdRplJLN0+PMMe+cG+ky5h7ELRzGu+/NcnHWW16VJGDjnWLt9\nI5/Nns/UxfOZt2keawrns6viYthdm2r7TqJBxVZk17qQO5rcy4XtW3Ji46pMnRrdD2ihoGf4EtV2\n7nRc9fg7fEFvOtQ+gwk3PU1mmq7H4xf7ivYxY0Uun8zO4dtVc1myI4ctcfMoKoLkXVnUr5DFielZ\nnNm0DRed0opWzaoQF4OXhFSkIzFl6vS9/GH0ENbXH8kVGb147aYHqFKxktdlSSn8WLCdLxfk8Pnc\nOXy3LodVe+eyK3EJtr0xafvb0qxqNh0btqVLdhvObl+HypWjP4oJFQ38CBTtGemxeN2fczD+o9Xc\n90lvdqV/wzVNejHs2juonpwakv173V95C2d/63duYOLcOXy5YA5zNsxmzf45FMZtIX5rG+paO1qn\nZ3NWs2wu7tiKVi2SQ/Ks3c/3nzJ8iTlmcMOlJ3D9Je/w/IQFDJj0NG+tasLvGt/Is1feS/1q9b0u\nMeY451izYy2fzPmeLxfOZu6m2eQXz2Z/0T4St7Yno0I7suv8nnuynuTXnZrSsEF8xJzq6Ed6hi++\nVVQEI95YQ//PnmV3k/GckXY5w7s9SNv6LY/9h6XUil0xy35YwcSc2XydO5t5W+aw3s3mwE+JVNzW\nnhMS29O+Xnu6ZLWny6kNqFNHkz1UFOmIBBw4AG9/uJWBE0eyMn0kJyS2p9c5f+DWsy+lcmJlr8uL\nSvuL9rNgUy6fzZ3D1CVzWLB1NhvJoXhPGknb29OoYntOrt+Orm3bc+GpdalZ0+uK/U0DPwL5OUOE\n6Ohv/uK9PDzuH0za+FdcxnTOrHkJD/zqOro0P48KcUdPOKOhv7I4Un+7ftrFd/nz+GzuHKavnMOS\n7TlsjcvFbW9I5V3ZNEpqT4eM9lyU3Y7OndKpUSP8tQfDz/efMnyRw8hqWYmPB19DYeE1vPr2Jp6d\n9A6X5vYlocZazq/VnV4XXMG5zTuSEJ/gdalhV1RcxNKtS5m2bB6TF80jZ8N88grmscc2wuZWpBS0\no1nVU+ieeQtd22dx2smVSQ3N++ESJnqGLzFvwwZ45f2ljM/5K6sSPiYufQUnVj6LK9qdz+XZ55NV\nK8tX1+0pKi5i5Y8rmb02l29yF5GTn8uKnYvYYouwPbWxzW2oG59Fq/Q2nNmsDRec3JQ2reNJTva6\ncjkSRToix2HnTvjbxz8wdspkZm39Cpf5FfGVdtK68nmc1+x0umS3IbteFmnJwV1/3CvFrpgNuzaw\nbOtyvl+1gu/zlrNk83LW7F3MNpYTt7c2xZtPooY7kSbVTqJdxol0btWKjm2r0bAhOlMmymjgRyA/\nZ4jgv/4rjCLPAAAGOElEQVSKimDRIvhk2mo+XvQVOYv/QUGjrVjtBSTHVSEzuQ2ta2VxWuM2nNK4\nKRkp9ahTpQ6J8YnlXtvufbvJ35nPup3rWLoxn4Vr81mxJZ+1O/PZWLiK7bYS25dC8Q9NSNzdlNqJ\nTWiU0oS29VtyevMWZLeqTJMmEF/iEkR+u/8O5ef+lOGLlFF8PGRlQVbWCTzEjUyZ0pi2bTvz7beO\nL79bTc7q+UxfMJ8Pvv6YfZVXUSF1AweSNpJECtXi6pGeUI9ayfVIq5xKSqVkUionUa1SMskVkqmU\nkEylxGTM4IDbx/7ifRTs28+egn3sLtzH3sJ9bC/YxbaCbWz/aRs/Fm5j574f2V28jUK2UUwR8Xsy\nKN6ege2qT2p8BnWSW9MwtQu/qt2IdplNaNm4Cs2bQ0qK1/8nJVLoGb5ICOzaBStWwLLlxSzK+4H8\nHevZsHs9mwvWs+OnHewuLGDvvgL2uQKK4wtw8Qf/izPcgURcUQLxJJIQl0hifAKJFRJIjqt28Gvu\n4tOoUSWNuqlpNKiRxgm1qnNCnarUqWPUqgWpqYpgYp0iHRGRGBHswI/B68p5p+R3avqR+otu6s//\nNPBFRGKEIh0RkSinSEdERP6HBn4Y+T1DVH/RTf35nwa+iEiMUIYvIhLllOGLiMj/0MAPI79niOov\nuqk//9PAFxGJEcrwRUSinDJ8ERH5H2Ua+GZW3cwmmdkSM/vczH5xIVYzyzCzr81soZnNN7NeZTlm\nNPN7hqj+opv687+yPsN/CPjSOdcC+Bp4+DBrDgB/cs61Ak4D7jSzlmU8blTKycnxuoRypf6im/rz\nv7IO/EuBcYGfxwGXHbrAObfROZcT+Hk3kAvUL+Nxo9L27du9LqFcqb/opv78r6wDv5ZzbhMcHOxA\nraMtNrNMIBuYUcbjiohIKR3zKw7N7AugdsmbAAf0PczyI55eY2ZVgPeAewLP9GNOXl6e1yWUK/UX\n3dSf/5XptEwzywU6O+c2mVkdYLJz7sTDrKsAfAxMdM49f4x96pxMEZFSCseXmH8E9ACGADcAHx5h\n3evAomMNewiuaBERKb2yPsNPA/4GNABWA1c557abWV3gFefcxWZ2BvANMJ+DkY8DHnHOfVbm6kVE\nJGgR90lbEREpHxHzSVsz62pmi81sqZn18bqeUDKz18xsk5nN87qW8uD3D9eZWUUzm2FmcwL99fe6\nplAzszgzm21mH3ldS6iZWZ6ZzQ3cfzO9rifUzCzFzN41s9zAv8FOR1wbCc/wzSwOWAqcD6wHZgHd\nnHOLPS0sRMzsTGA3MN4518brekIt8IZ9HedcTuBsrO+BS/1y/wGYWSXn3F4ziwf+D+jlnPPN8DCz\n+4CTgWrOuUu8rieUzGwlcLJz7kevaykPZjYWmOqcGxM4QaaSc27n4dZGyjP8jsAy59xq59x+YAIH\nP9TlC865aYAv/7JBbHy4zjm3N/BjRQ6e7OD9M6UQMbMM4NfAq17XUk6MyJl1IWVm1YCznHNjAJxz\nB4407CFy/ifUB9aW2M7HZwMjVvj1w3WByGMOsBH4wjk3y+uaQug54EF89CB2CAd8YWazzOwWr4sJ\nsUbAD2Y2JhDJvWxmyUdaHCkDX3zAzx+uc84VO+faARlAJzM7yeuaQsHMfgNsCrxCs8AvvznDOdee\ng69i7gxErH5RAWgPjAz0uJeD1zg7rEgZ+OuAhiW2MwK3SZQIZIfvAW845470eYyoF3i5PBno6nUt\nIXIGcEkg534bONfMxntcU0g55zYE/rsF+ICDEbJf5ANrnXPfBbbf4+ADwGFFysCfBTQ1sxPMLBHo\nxsEPdfmJX589/SzoD9dFGzOr8fOlvwMvly8EfPGGtHPuEedcQ+dcYw7+u/vaOXe913WFiplVCrzy\nxMwqA78CFnhbVegErmW21syaB246H1h0pPVl/aRtSDjniszsLmASBx+EXnPO5XpcVsiY2VtAZyDd\nzNYA/X9+k8UPAh+uuxaYH8i5/fbhurrAuMDZZHHAO865Tz2uSYJTG/ggcMmWCsCbzrlJHtcUar2A\nN80sAVgJ9DzSwog4LVNERMpfpEQ6IiJSzjTwRURihAa+iEiM0MAXEYkRGvgiIjFCA19EJEZo4IuI\nxAgNfBGRGPH/HX0pAaRxYbUAAAAASUVORK5CYII=\n",
      "text/plain": [
       "<matplotlib.figure.Figure at 0x4b85e90>"
      ]
     },
     "metadata": {},
     "output_type": "display_data"
    }
   ],
   "source": [
    "def G(a):\n",
    "    g=(1/16)*exp(-2*a)*(a+1)+exp(-2*a/3)*(15/16*cos(sqrt(8/9)*a)+33/(sqrt(8)*16)*sin(sqrt(8/9)*a))\n",
    "    return g                    \n",
    "\n",
    "aa=np.linspace(0,6,50)\n",
    "gg=[G(i) for i in aa]\n",
    "\n",
    "plt.plot(aa,gg,A2,B2)\n",
    "plt.grid(True)\n",
    "plt.show()"
   ]
  },
  {
   "cell_type": "markdown",
   "metadata": {},
   "source": [
    "Разность решений"
   ]
  },
  {
   "cell_type": "code",
   "execution_count": 55,
   "metadata": {
    "collapsed": false
   },
   "outputs": [
    {
     "data": {
      "image/png": "iVBORw0KGgoAAAANSUhEUgAAAY8AAAEACAYAAABLfPrqAAAABHNCSVQICAgIfAhkiAAAAAlwSFlz\nAAALEgAACxIB0t1+/AAAIABJREFUeJzt3XmYFMX5wPHvC4oxXqsgoIIcKmf8ZYGIRDQsIrIQFDQe\nIChrUPGKJhrl8EBNFFZjwmEiaojrgYIajUQRFmUHlaioiFFYLgUExDUJoKJEAd/fH9Wr42ZmZ3bn\n6Ome9/M887A9VPW8L6Nd21VdVaKqGGOMMXXRwO8AjDHGBI81HsYYY+rMGg9jjDF1Zo2HMcaYOrPG\nwxhjTJ1Z42GMMabO0tJ4iEixiKwQkVUiMjpOmSkislpElopIYaK6InK7iFR65f8qIvtH/d1Y71yV\nInJyOnIwxhiTvJQbDxFpANwF9AM6A0NFpEONMv2BI1T1KGAUMC2JuuVAZ1UtBFYDY706nYCzgI5A\nf+BPIiKp5mGMMSZ56bjz6A6sVtX1qroTmAkMqlFmEPAggKq+BhwgIs1qq6uqz6vq1179V4EW3s+n\nAjNVdZeqrsM1LN3TkIcxxpgkpaPxOAzYEHW80XsvmTLJ1AX4OTAnzrk2xaljjDEmQ/waME+6m0lE\nrgN2quqjGYzHGGNMHeyRhnNsAg6POm7hvVezTMsYZRrVVldESoABwIlJnOt/iIgt3GWMMfWgqrX/\nkq+qKb2AhsAaoBWuMVgKdKxRZgDwrPdzD+DVRHWBYmAZ0LjGuToBb3nl23j1JU5sGmbjx4/3O4SM\nCXNuqpZf0IU5v/Hjx6t37az12p/ynYeq7haRy3FPRzUApqtqpYiM8gK4V1XniMgAEVkDfA6cX1td\n79RTvQZivvcw1auqeqmqLheRx4DlwE7gUtX8XBp43bp1foeQMWHODSy/oAtzfsnmlo5uK1R1LtC+\nxnv31Di+PNm63vtH1fJ5E4AJ9QrWGGNMymyGeYCVlJT4HULGhDk3sPyCLsz5JZubhLnHR0TytUfL\nGGPqTUQSDpjbnUeARSIRv0PImDDnBpZf0IU5v2Rzs8bDGGNMnVm3lTHGmO+wbitjjDEZYY1HgFm/\na3BZfsEW5vxszMMYY0zG2JiHMcaY77AxD2OMMRlhjUeAWb9rcFl+wRbm/JLNLS1rWxljsm/XLvjk\nE9i2DbZuhUaNoE0b2G8/vyMz+cDGPIzJcRs2wPz5UF4Oy5e7hmLbNtixAw44AAoK3GvHDli3DvbZ\nB9q2dQ1J9Z8/+hEUFoIkvQ2byWfJjHlY42FMjvn8c3jxRZg3zzUYH38MffvCySdDly5w0EGusdh3\nX2hQo+NZFaqq4P33Ye1a9+d778HLL8NXX8Gpp7pXUZG7UzEmFms8Qt54RCIRioqK/A4jI8KcG8TO\nr7ISfvMbmD0bunWDfv2+bTAaNkzt81Td+Z9+2p2/stKdf9AgOOWU9Hd15eP3FxaRSITevXvb01bG\n5Lrly2HoUOjVC44+GjZtgoULYdw4192UasMBrruqUycYOxZeeQVWrHB3M4884rq1xo6FzZtT/xyT\nP9Jy5yEixcAkvt0NsDRGmSlAf9xOgiWqurS2uiJyBnAT0BE4RlWXeO+3AiqBFd6pX1XVS+PEFeo7\nDxNsy5a5O42KCvjVr+Cyy/wZ7F67Fn7/e5gxA372M/j1r6H9/2zPZvJJVuZ5iEgD4C6gH9AZGCoi\nHWqU6Q8c4e0OOAqYlkTdd4DTgIUxPnaNqnb1XjEbDmNy1fvvw5AhcOKJrkvqvfdgzBj/npJq0wam\nToVVq6BFCzjhBDj9dHj1VX/iMcGQjm6r7sBqVV2vqjuBmcCgGmUGAQ8CqOprwAEi0qy2uqq6UlVX\nA7FaP3tmBHvWPIgeeQSOPRb23TfCe+/B6NFu4DsXNGkC48e7J7b69IFzzoHiYteo1FVYv79qYc4v\nm2tbHQZsiDre6L2XTJlk6sbSWkSWiEiFiBxf95CNya7t2+H88+GWW9xjt8OH506jUdP3v++60Fau\ndAP2xx3nxkS2b/c7MpNL/JokmMqdw4fA4aq6VUS6An8TkU6qGvM/7ZKSElq3bg1AQUEBhYWF3zwl\nUd3CBvW4+r1ciSedx0VFRTkVTyrHBQVFnH02tG0b4Q9/gMLCIiD381u0KELXrvDOO0WMHg1t2kS4\n5BK4+eYiRPLn+8uH/CKRCGVlZQDfXC8TSXnAXER6ADeparF3PAbQ6EFzEZkGVKjqLO94BdALaJNE\n3Qrg6uoB8xifH/fvbcDc+EnVjSX89rcwebJ7oirIXn7Z3ZE0buzy6tzZ74hMpmRrYcTXgSNFpJWI\nNAKGALNrlJkNnOcF1QPYpqpVSdaFqDsVEWniDbQjIm2BI4H305BH4FT/5hBGQc9tyxY3h+Lhh92j\nsTUbjiDmd/zx8Oab7oms3r3huuvcxMNYgphfXYQ5v2RzS7nxUNXdwOVAObAMmKmqlSIySkQu8srM\nAdaKyBrgHuDS2uoCiMhgEdkA9ACeEZHnvI/8CfBPEVkCPAaMUtVtqeZhTLpUVbk5G23auN/WjzjC\n74jSZ4893N3HO+/A22+78ZAVKxLXM+FjM8yNSaNNm759UumGG8K9lpQq3HOPy/OWW+Dii8Odbz6x\n5Ums8TBZVP2I66hRcO21fkeTPStXwrBh0Lw5TJ8OzZr5HZFJlW0GFXLW75o7Vq92XVW//GVyDUfQ\n8qtN+/bwj3+4VXsLC+Hvfw9XfrGEOb9kc7P9PIxJ0fLlbj7E+PFw4YV+R+OPRo3cU2XFxXDuudC1\nK/TsCXvu6XdkJlOs28qYFLz9trtg3n67u2gat9fI8OHw6afw2GOuO8sEi3VbGZNBb7/t7jgmT7aG\nI1pBgVv2/cQT4Zhj3KPKJnys8Qgw63f1z+bNbh+MKVPgrLPqXj/X80vViy9GuOkmuPtuN9/lnnvc\n01lhEebvL2vzPIzJNzt2wODBcMEFcPbZfkeT2wYOhEWL3Iz0Cy6A//7X74hMutiYhzF1oOoeS1V1\nK+TavIbkbN8OI0e65eiffBJatvQ7IlMbG/MwJs1uvRXWrIG//MUajrrYd1+YORPOPBN+/GO3zIkJ\nNms8Asz6XbPrr3+Fe+91+4DvvXdq58rF/NIpVn4ibg7M1KnuCbWnn85+XOkS5u/P5nkYk0ZLlrjl\nN+bNg0MO8TuaYDvtNLdj4eDBbhfFX/3K7uKCyMY8jElg82bo3h0mTXIrypr0+OAD+OlP3Wq9U6e6\nRRdNbrC1razxMCnascMtOzJokFuC3KTXp5+6J9ZU3YTC/ff3OyIDNmAeetbvmnlXXw1t28K4cek9\nb67klynJ5rf//m4trLZt3XImH3yQ2bjSJczfn83zMCZFzz4Lc+a4CW7WJ585e+wBf/wjlJS4BuTd\nd/2OyCTDuq2MieHjj90KsTNnwk9+4nc0+ePRR93KxI8/bv/ufspat5WIFIvIChFZJSKj45SZIiKr\nRWSpiBQmqisiZ4jIuyKyW0S61jjXWO9clSJycjpyMKaaqpsNPWKEXcCybehQmDEDzjjDTSY0uSvl\nxsPbT/wuoB/QGRgqIh1qlOkPHKGqRwGjgGlJ1H0HOA1YWONcHYGzgI5Af+BPIvnZqWD9rplx332w\ncSPcfHPmPiPM3x2klt9JJ7lHon/xC7c2Vi4K8/eXzXke3YHVqroeQERmAoOA6J2NBwEPAqjqayJy\ngIg0A9rEq6uqK733ajYMg3B7ne8C1onIai+G19KQi8lzq1a5p6pefNHtUWH80aULvPQS9OsHH37o\ntrnNz18Rc1c6uq0OAzZEHW/03kumTDJ1E33epiTqhFJRUZHfIWSMH7nt3On2objpJujYMbOfFebv\nDtKTX9u2blHFefPcJlu7dqUeV7qE+ftLNje/puVk7XeIkpISWrduDUBBQQGFhYXf/ONU357ZsR0D\njBzpji+9NDfisWN3vGBBEWecAb16RbjxRujXL7fiC8NxJBKhrKwM4JvrZUKqmtIL6AHMjToeA4yu\nUWYacHbU8QqgWZJ1K4Cu8coAc4Fj48SmYVZRUeF3CBmT7dwWLVJt1kx18+bsfF6YvzvV9Of35Zeq\nQ4ao9uqlum1bWk9dL2H+/ioqKtS7dtZ67U9Ht9XrwJEi0kpEGgFDgNk1yswGzgMQkR7ANlWtSrIu\nfPdOZTYwREQaiUgb4EhgcRryMHnqs8/cToDTptmWqbmqUSP3FNYPfgC9e7tHqY2/0jLPQ0SKgcm4\nMZTpqjpRREbhWq97vTJ3AcXA58D5qrokXl3v/cHAVKAJsA1Yqqr9vb8bC4wEdgJXqmp5nLg0HfmZ\ncLvySrdMxv33+x2JSUTVPQX3yCNQXg7J9rCYurG1razxMAksWQL9+8Py5dC4sd/RmGRNnQq33w5z\n50Lnzn5HEz62tlXIVQ94hVE2ctu9Gy65BCZMyH7DEebvDjKf3y9+ARMnQp8+8OqrGf2omML8/SWb\nmzUeJm/ddx/suadbU8kEz7BhbkfHU05xXVgmu6zbyuSlqio4+mh44QX3pwmuRYvg9NPhrrvcNrcm\ndcl0W9n2KyYvXXONW7vKGo7g69nT3XkMGADbtrkJhSbzrNsqwKzftb7ndq/x4zP2EUnEEPHvw7Mg\n2/n98IewcKEbv5o40T2VlUlh/v6Szc3uPExe+eoruPRSmDwZ9t3X72hMOh155LfrYf3nP+5pLFsP\nK3NszMPklQkTXB/53/9uF5aw2rLFdWF17uw28rK90evO5nlY42GirF0LxxwDr78Obdr4HY3JpO3b\n3SD6fvu5CYV77eV3RMFi8zxCzvpdk6cKV1wBV12VGw1HmL878D+/ffd1d5cNG7q7kM8+S+/5/c4v\nk2yehzFRnnkG1qyBX//a70hMtuy1l9vWtl07Ww8rE6zbyoTerl3ukdw773S/hZr8our2aHn0UVsP\nK1k2z8MY4M9/hkMPdWtYmfwj4hZTPPhgOOEEmDPH5vekg3VbBZj1uyb22WfuwnHHHbn1dFWYvzvI\nzfwuv9z9d3DSSe6Ju1TkYn7pYmMexvDtxaJrV78jMblgyBB46CEYPNiNg5n6szEPE1offui6J5Ys\ngVat/I7G5JLXXoNBg9y8n/PP9zua3GPzPKzxyGsXXOCWWi8t9TsSk4tWroTiYvj5z+H663OrW9Nv\nWZvnISLFIrJCRFaJyOg4ZaaIyGoRWSoihYnqisiBIlIuIitFZJ6IHOC930pEvhCRJd7rT+nIIYis\n3zW+d991z/mPHZueeNItzN8dBCO/9u3hlVfgqadg1Cj3VF6ygpBffWVtzENEGgB3Af2AzsBQEelQ\no0x/4AhVPQoYBUxLou4Y4HlVbQ8sAKIvA2tUtav3ujTVHEz4XHstjBsHBQV+R2JyWfPmbkHF9evh\ntNPg88/9jig4Uu62EpEewPio/cXH4PYuL40qMw2oUNVZ3nElUAS0iVdXRFYAvVS1SkSaAxFV7SAi\nrYBnVDXhw3bWbZWfXnjB/Sa5fDk0auR3NCYIdu503ZwrVriB9IMP9jsif2Wr2+owYEPU8UbvvWTK\n1Fa3mapWAajqR0DTqHKtvS6rChE5PvUUTFh8/bXbq2PCBGs4TPL23BPKyqBvXzjuOHjvPb8jyn1+\nTRKsz9BU9S3EZuBwVd0qIl2Bv4lIJ1XdHqtSSUkJrb0ppQUFBRQWFlJUVAR827cX1ONJkyaFKp/o\n4+h+17rULy+HvfYq4owzciufdOUXlOMg5rdwYYSTToKWLYs44QS4/voInTqFJ79E31dZWRl1oqop\nvYAewNyo4zHA6BplpgFnRx2vAJrVVheoxN19ADQHKuN8fgXQNc7faZhVVFT4HULG1Ce3L75QPfxw\n1ZdfTn886Rbm7041+Pn9/e+qTZqozpoV+++Dnl9tKioq1Lt21nrtT8eYR0NgJdAHd1ewGBiqqpVR\nZQYAl6nqT70xkkmq2qO2uiJSCmxRN/4xGjhQVceISBPv/a9FpC2wEDhaVbfFiE1Tzc8Ex+9/7zYD\neuopvyMxYbB0KZx6Klx0EVx3XX49ypu1eR4iUgxMxo2hTFfViSIyCtd63euVuQsoBj4HzlfVJfHq\neu8fBDwGtATWA2ep6jYROR24BfgK+Bq4UVXnxInLGo888fnncMQRMH++rVtk0mfzZteAdOwI992X\nP/uC2CTBkDcekUjkm/7LsKlrbrffDm++CbNmZS6mdArzdwfhyu+LL+Dcc92S7k89BU2ahCu/miKR\nCL1797bNoEz4ffaZW259/Hi/IzFh9P3vw+OPw/HHw7HHusd5jd15mBC47TZYtgxmzPA7EhN2998P\no0fDgw+6pU3CyrqtrPEIvU8+gSOPhJdfdstNGJNpL70EZ58Nv/gFjBkTzoF028M85KKfNQ+bZHOb\nPNntDhi0hiPM3x2EO78TToDJkyP87W9w5pmwPeYMs+BK9ruzxsME1tatMGUK3HCD35GYfHPwwfDi\ni27ttB49YPVqvyPKPuu2MoF1442waRNMn+53JCZfqcI997j/FsvK3F1wGNiYhzUeofWf/0C7dvDG\nG9Cmjd/RmHy3aBGcdRZccolbzblBwPt0bMwj5MLcr5wotzvvhDPOCG7DEebvDvIvv5494fXX4bnn\nYOBA+Ne//IkrHWzMw4TWv/7lugquu87vSIz51qGHQiQC//d/0KWL+znMrNvKBM6117rlSP74R78j\nMSa2efOgpAQuvthtcduwod8R1Y2NeVjjETpVVdCpE/zzn3BYzV1jjMkhmzfD8OFuj5kZM9ydSVDY\nmEfIhblfOV5uv/89nHNO8BuOMH93YPkBHHIIlJfDiSdCt24wd27m40qHZL87vzaDMqbOtmyBP/8Z\n3nrL70iMSU7Dhm4eUq9e7i7k1FOhtBT22cfvyFJn3VYmMG6+GT74wOZ1mGDauhV++Uv3WO/997uZ\n6rnKxjys8QiNzz6Dtm3hH/+Ao47yOxpj6u/pp918kCFD4NZbYe+9/Y7of2VtzENEikVkhYis8nb9\ni1VmioisFpGlIlKYqK6IHCgi5SKyUkTmicgBUX831jtXpYicnI4cgijM/co1c5s2Dfr0CU/DEebv\nDiy/2gwaBO+84wbUCwvh1VfTF1c6ZG2eh4g0AO4C+gGdgaEi0qFGmf7AEap6FDAKt6d5orpjgOdV\ntT2wABjr1ekEnAV0BPoDfxIJ47qWptqOHW6gfNw4vyMxJj0aN4ZHH4Xf/hYGD3bLvO/Y4XdUdZOO\nPcx7AONVtb93PAa3/WxpVJlpQIWqzvKOK4EioE28uiKyAuilqlUi0hyIqGqHmucXkeeAm1T1tRix\nWbdVCPzxj+65+dmz/Y7EmPT7+GO4/HK31M6UKW6Gut+y1W11GLAh6nij914yZWqr20xVqwBU9SOg\naZxzbYrxeSYkdu50W8zabHITVk2bwmOPua7Zq692T2StXet3VIn5Nc+jPt1MdgtRQ5j7latze/hh\nN85x7LH+xpNuYf7uwPKrj5NPdpNfe/SAY46B3/wG/vvftH9MQtmc57EJODzquIX3Xs0yLWOUaVRL\n3Y9EpFlUt9XHCc4VU0lJCa1btwagoKCAwsLCbzaur/5HCurx0qVLcyqedB+/8EKEG26Ahx7KjXjs\n2I6zcTxuXBHDhsGwYRGmTYO//KWIfv0y+/mRSISysjLqIh1jHg2BlUAfYDOwGBiqqpVRZQYAl6nq\nT70xkkmq2qO2uiJSCmzxxj9GAweq6hhvwHwGcCyuu2o+cFSswQ0b8wi2WbPcToGLFoVzq09jEpkz\nB6680j2mPmECdO2anc/NypiHqu4GLgfKgWXATO/iP0pELvLKzAHWisga4B7g0trqeqcuBfqKSHXj\nMtGrsxx4DFgOzAEutRYifFThttvcWIc1HCZfDRgAy5a5J7IGDnRzQ3Jm10JVDe0L0K1bNbQqKir8\nDiFjbrutQn/4Q9Wvv/Y7kswI83enavllwvbtqrfeqtq4seqoUaqbNmXmcyoqKtQ1DbVfX0O/MGKu\nTcAxianCQw+5eR1212GMs88+7v+JlSth//3hBz9w2xNUVfkTT+iXJ7nhBuWWW/yOxNRFRYXbB2H5\n8uDtg2BMtmzc6JY3mTnTbYF79dVua+Z0sCXZcWshmWCZONH9RmUNhzHxtWgBd9/t7kSaNXNb4Z52\nWvaueaFvPBYvhl27/I4iM6oftQuTt96Cd9+Fli0jfoeSUWH87qJZftnTtCnccgusW+fWfxs+HI4/\nHv72t/pd+5LNLfSNR4sWbhEyEwy33+6WrW7UyO9IjAmWffZxy5ysWgVXXOH2DWnVyo2TrFmT/s8L\n/ZjHyJFKly5w2WV+R2MSef99N7N27Vo3IGiMSc2yZfCXv7iVGjp0gJ//HM44I/FmVDbmARx3nI17\nBMWdd8JFF1nDYUy6dO7s/r/asMFNNnz8cWjZEi680G2R+9VX9T936BuPnj3dDOUwyqV+11R9/LFb\novrKK91xmHKLxfILtqDl16gRnH46PPOMG1Ns1w5uuskNtA8d6lZz+PRTV9bGPDzt2rld6DbFXf3K\n5IKpU93jhs2b+x2JMeF26KFwzTWuR2b5cujdGx54wI0P9++f/NYHoR/zUFVOOQVGjHB9fSb3bN8O\nbdrAK6/AkUf6HY0x+emzz2DuXHj+ebj3XhvzAGzcI9fdd5/77ccaDmP8s99+cOaZcM89yZXPi8Yj\nrOMeQet3jeWrr9wWs6NHf/f9MORWG8sv2MKcn415RPnRj9wgUdD2CM4Hjz4K7dtDt25+R2KMqYu8\nGPMA6N7dPbJ2wgk+B2W+8fXXcPTRMGkS9O3rdzTGmGo2zyOKjXvknmefhb32gpNO8jsSY0xd5U3j\n0bNn+BqPoPe7lpa6sY5Yy64HPbdELL9gC3N+WRnzEJEDRaRcRFaKyDwROSBOuWIRWSEiq7wtZRPW\nF5GxIrJaRCpF5OSo9yu8c70lIktEpEkysf74x67xCHEvXaAsWgSbN8PPfuZ3JMaY+khpzMPbZ/w/\nqnp79D7jNco0AFbhtpL9EHgdGKKqK+LVj9qn/BigBfA83j7lIlIBXKWqbyURn0bn16oVzJ+fvjXv\nTf0NGgTFxXDJJX5HYoypKRtjHoOAB7yfHwAGxyjTHVitqutVdScw06tXW/1TcfuZ71LVdcBq7zwp\nxW3jHrmhshJeew1KSvyOxBhTX6k2Hk1VtQpAVT8CmsYocxiwIep4o/ceQLM49WvW2RRVB6DM67K6\nvi7Bhm3cI6j9rnfc4ZaO3nvv+GWCmluyLL9gC3N+yea2R6ICIjIfaBb9FqBArAt3qiMKydQ/R1U3\ni8g+wJMiMlxVH07m5Mcd53beMv7ZtMltUpOJ/QWMMdmTsPFQ1bhP4ItIlYg0U9UqEWkOfByj2Cbg\n8KjjFt57AB/Fqb8JaBmrjqpu9v78XEQewXVnxW08SkpKaN26NQD77VfA++8XsnVrEQce+G0LW1RU\nBATvuPq9XIknmeNp0+C884o46KDayxcVFeVEvJk6tvyCfRy2/CKRCGVlZQDfXC8TSceA+RZVLa1l\nwLwhsBI3YL4ZWAwMVdXKePWjBsyPxXVXzQeOwnWzFajqf0RkT+ARYL6q3hsnPq2Z34knuhUl+/ev\nd9qmnj75BNq2hSVL3MMLxpjclI0B81Kgr4hUNw4TvQ8+RESeAVDV3cDlQDmwDDcQXllbfVVdDjwG\nLAfmAJd6rcBewDwRWQoswY2f3FeXgMM07lH9m0NQTJsGAwYk13AELbe6svyCLcz5JZtbwm6r2qjq\nFuB/5gd7XUsDo47nAu2Tre/93QRgQo33vgB+lErMxx0Hv/tdKmcw9fHllzB5slvy2RgTfHmztlW1\nrVvh8MPdn3uk1HSaupg+HZ54Ap57zu9IjDGJ2NpWMRx4oOs2WbLE70jyx9dfu8dzr73W70iMMemS\nd40HwMknu83fgy4o/a6zZ7uNZqIeEksoKLnVl+UXbGHOL9nc8rLxKC62vvdsUa19AURjTDDl3ZgH\nuE2hmjaFDRugoMCHwPLIyy+7ZUhWroSGDf2OxhiTDBvziGPvveH44+GFF/yOJPxuvx1+/WtrOIwJ\nm7xsPCAcXVe53u+6bBksXgwjRtS9bq7nlirLL9jCnJ+NeSTQrx/Mm2f7e2RSaSlccUXtCyAaY4Ip\nL8c8wDUabdrAnDnQqVOWA8sD69ZBt27w3ns2rmRM0NiYRy1EwtF1lat+9zu48EJrOIwJq7xtPODb\nrqugytV+16oqeOQR+OUv63+OXM0tXSy/YAtzfjbmkYQTT3SLJH7xhd+RhMuUKTBkCDRv7nckxphM\nydsxj2q9esGYMbZEe7p8+qlbdn3xYvenMSZ4bMwjCUHvuso1d9/t/k2t4TAm3PK+8QjyoHmu9bvu\n2AGTJrk7uVTlWm7pZvkFW5jzszGPJBUWuuXZ163zO5LgKyuDH/0Ijj7a70iMMZmW6ja0BwKzgFbA\nOuAsVf0kRrliYBKusZquqqW11ReRg4AngGOA+1X1iqhzdQXKgO8Bc1Q17jM9yYx5AJx7rluuZNSo\nJJI2Me3aBe3awcMPuw23jDHBlY0xjzHA86raHlgAjI0RRAPgLqAf0BkYKiIdEtT/L3A9cHWMz7wb\nGKmq7YB2ItIvxRwC3XWVK2bNgpYtreEwJl+k2ngMAh7wfn4AGByjTHdgtaquV9WdwEyvXtz6qvqF\nqv4D+DL6RCLSHNhPVV/33nowzmfWycknQ0UFfPVVqmfKrlzpd1WFiRNh7P/86lB/uZJbplh+wRbm\n/LI15tFUVasAVPUjoGmMMocBG6KON3rvATRLon7Nc22Mc656O/hgOPJIeOWVVM+Un5591m3p2y/l\ne0BjTFAk3MVbROYDzaLfAhTXrVRTqpNG0j7ppKSkhNatWwNQUFBAYWEhRd6WdtUtbFFREcXFcO+9\nEVSJ+fe5eFz9np/xqMKECUWMGQMLF6bv/EVFRb7/+2by2PIL9nHY8otEIpSVlQF8c71MJNUB80qg\nSFWrvC6lClXtWKNMD+AmVS32jscAqqqlieqLyAigW/WAec0yIjIE6KWql8SJL6kBc3CbFl1xhe1t\nXleRiFvDasUK27PDmLDIxoD5bKDE+3kE8HSMMq8DR4pIKxFpBAzx6iVb/5sEvK6tT0Sku4gIcF6c\nOnV27LFXykgDAAAQN0lEQVTw/vtuXaagqP7NwU833QTXX5/+hiMXcsskyy/Ywpxfsrml2niUAn1F\nZCXQB5gIICKHiMgzAKq6G7gcKAeWATNVtbK2+t451gJ3AiNE5IOoJ7QuA6YDq3AD8Wl5TmrPPaFP\nHygvT8fZ8kMkAhs3wrBhfkdijMm2vF/bKtp997kL4owZmYspTHr3dvuT12enQGNM7kqm28oajygf\nfOA2MKqqggZ5P/e+dgsXwsiRbqxjj4SPXRhjgsQWRqyjww93y4gH5ZFdP/tdb77ZjXVkquEIc58y\nWH5BF+b8sjXmETpDhli3VSIvvgjr18Pw4X5HYozxi3Vb1bB2LXTvDps2QaNGGQos4Pr0cQ3H+ef7\nHYkxJhOs26oe2rSB9u1tj494XnrJNbB212FMfrPGI4bhw4PRdeVHv2v1WMeee2b2c8LcpwyWX9CF\nOT8b80jBmWfCc8+5LVXNt15+2U2kPPdcvyMxxvjNxjziGDQITj/d5jBE69vXPVAwcqTfkRhjMsnG\nPFIwbJjb2Mg4ixbBmjVw3nl+R2KMyQXWeMRxyinwxhvw4Yd+RxJfNvtdb74Zrrsu82Md1cLcpwyW\nX9CFOT8b80jR3nvD4MEwc6bfkfhv4UK76zDGfJeNedTihRfg2mvhzTfTGFTAfP21W3H4qqtg6FC/\nozHGZIONeaSoqAg++ggqKxMWDa3HH3fbzJ59tt+RGGNyiTUetWjY0P22natzPjLd7/rllzBuHNxx\nR/YXigxznzJYfkEX5vxszCNNhg1zjUeIe/fiuvtu6NjRLb1ujDHRbMwjAVXo3Nnt9dGzZ5oCC4Bt\n26BdO1iwAH7wA7+jMcZkU8bHPETkQBEpF5GVIjJPRA6IU65YRFaIyCoRGZ2ovogcJCILROQzEZlS\n41wV3rneEpElItIklRwS5+iWK8m3OR8TJ8Kpp1rDYYyJLdVuqzHA86raHlgAjK1ZQEQaAHcB/YDO\nwNCoLWXj1f8vcD1wdZzPHaqqXVS1q6r+O8UcEjrnHDdw/NVXmf6kuslUv+sHH7g7rVtuycjpkxLm\nPmWw/IIuzPlla8xjEPCA9/MDwOAYZbrj9hpfr6o7gZlevbj1VfULVf0H8GWG4q6T1q1d3//ctOyW\nnvtuvBEuvRQOPdTvSIwxuSqlMQ8R2aKqB8U79t77GdBPVS/yjocD3VX1ChHZqqoH1nK+EUA3Vb0i\n6r0KoAmwE3hSVX9bS3wpj3lUmzYNKipg1qy0nC5nvf029OsHq1bB/vv7HY0xxg/JjHkk3ERUROYD\nzaLfAhTXrVRTqlfqZOqfo6qbRWQf4EkRGa6qcUckSkpKaN26NQAFBQUUFhZSVFQEfHt7lszxmWfC\n1VdHeOYZGDiw7vWDcnzNNXDDDUXsv39uxGPHdmzHmT+ORCKUlZUBfHO9TEhV6/0CKoFm3s/NgcoY\nZXoAc6OOxwCjk6kPjACm1PL5if5e0+ncc1VvvTWtp0xJRUVFWs83b57qUUepfvVVWk9bL+nOLddY\nfsEW5vwqKirUu3bWev1PdexgNlDi/TwCeDpGmdeBI0WklYg0AoZ49ZKt/82tk4g0FJHG3s97AgOB\nd1NLIXljx8LkyfD559n6xOzZvdstxTJxYvYWPzTGBFeqYx4HAY8BLYH1wFmquk1EDgHuU9WBXrli\nYDJuoHu6qk6srb73d2uB/YBGwDbgZOAD4EVcd1tD4HngKo2TRDrHPKqdeSYcdxz86ldpPa3vpk6F\nJ56ASMQ9nmyMyV/JjHnYJME6eustGDgQ3nsPvve9tJ7aNxs2QJcubqfADh0SlzfGhJstjJgBXbq4\n1/33+x1Jep41V3WP5V55ZW41HOnILZdZfsEW5vySzc0aj3q47jooLYWdO/2OJHWPPw5r18Lo0YnL\nGmNMNeu2qqc+feDcc6GkJCOnz4qtW926XX/9K/z4x35HY4zJFTbmkcHGo6ICLr4Yli93S7cH0QUX\nuHGbu+7yOxJjTC6xMY8MKiqCxo3dE0p+SaXfNRKB8nK47ba0hZNWYe5TBssv6MKcn415ZJgIXH89\n3Hqr26o1SHbsgIsucncctgSJMaY+rNsqBarQrRvcdJNbvjworrvOrV31+ON+R2KMyUU25pHhxgPc\nYHNpKbz2WjAm1/3zn3DSSW4BxEMO8TsaY0wusjGPLDjtNNi+HebPz/5n17Xfddcu1111662533CE\nuU8ZLL+gC3N+NuaRJQ0awLhx7oKc60aPhgMOgJEj/Y7EGBN01m2VBrt2wdFHw/jxMGRIxj+uXmbM\ncPEtXgwHHZS4vDEmf9mYR5YaD4A334T+/d3FOdnl8LNlyRK3wdOCBa6RM8aY2tiYRxZ16+aWND/n\nHHcnkg3J9E1+/DGcfrrbCTFIDUeY+5TB8gu6MOdnYx4+uOoq2G8/uOUWvyNxdu6Es86CYcPgZz/z\nOxpjTJhYt1WaffSRW3V31iz4yU+y+tH/48orYc0amD07uEuoGGOyz7qtfNC8OUyf7hZN3LrVvzjK\nyuC559xAuTUcxph0S6nxEJEDRaRcRFaKyDwROSBOuWIRWSEiq0RkdKL6InKSiLwhIm+LyOsi0juq\nTlcR+ad3rkmpxJ8pAwbA4MFw4YVuFnqmxOubXLzYjb88/TQUFGTu8zMpzH3KYPkFXZjzy9aYxxjg\neVVtDywAxtYsICINgLuAfkBnYKiIdEhQ/1/AQFX9IW6P84eiTnk3MFJV2wHtRKRfijlkRGmp6zL6\n85+z+7nLl7vxjfvug44ds/vZxpj8keoe5iuAXqpaJSLNgYiqdqhRpgcwXlX7e8djAFXV0mTqe3X+\nDRwCNAYWqGon7/0hXv1L4sSX9TGPaJWVbtzjxRezcyEvL4fhw+GOO2DEiMx/njEmnLIx5tFUVasA\nVPUjoGmMMocBG6KON3rvATRLVF9EzgCWqOpOr97GOOfKOR07upnnQ4fCli2Z/ay774bzznNrbVnD\nYYzJtD0SFRCR+UCz6LcABa6PUTzVX/O/U19EOgMTgL71PWFJSQmtvVl7BQUFFBYWUlRUBHzbt5fJ\n46OOgr59i+jaFa65JkLnzuk7/6RJkzj66EJmzy6ivBzuvDPC7t0A2csvU8fR/a65EI/lZ/mFOb9I\nJEJZWRl1oqr1fgGVuLsHgOZAZYwyPYC5UcdjgNGJ6gMtgJVAj6j3apYZAtxdS3yaK55+WrVpU9XS\nUtXdu9NzzmeeqdD+/VX79FHdsiU958wVFRUVfoeQUZZfsIU5v4qKCvWunbVe/1Md8ygFtqgbvxgN\nHKiqY2qUaeg1An2AzcBiYKiqVsarLyIFQAS4SVX/VuN8rwJXAK8DzwJTVHVunPg0lfzSbf1614VV\nUAAPPghNmtT/XOvWwSmnQM+eMHUq7Lln2sI0xuS5bIx5lAJ9RaS6cZjoffAhIvIMgKruBi4HyoFl\nwExVraytPnAZcARwo4i8JSJLRKRJ1N9NB1YBq+M1HLmoVStYuNAtE9KlC7z0Ut3PsWIFjBkDxx7r\nVse9+25rOIwx2WczzH0yZw78/Odw8cVu7amjjoK9945d9pNP3Iz1++93dxznngvnnw9VVZFv+i/D\nJhIJb25g+QVdmPOLRCL07t074Z1HwgFzkxkDBsAbb7i7iKFD4f333ez0Dh2gfXv358EHw5NPwrPP\nut3/rr/erY67h/etVVX5m4MxJn/ZnUeO2LXL3VWsWOFeK1fCpk1umfdzzoHGjf2O0BiTL2w/jwA1\nHsYYkytsYcSQi37WPGzCnBtYfkEX5vySzc0aD2OMMXVm3VbGGGO+w7qtjDHGZIQ1HgFm/a7BZfkF\nW5jzszEPY4wxGWNjHsYYY77DxjyMMcZkhDUeAWb9rsFl+QVbmPOzMQ9jjDEZY2MexhhjvsPGPIwx\nxmRESo2HiBwoIuUislJE5onIAXHKFYvIChFZ5e0YWGt9ETlJRN4QkbdF5HUR6R1Vp8I7V81NovKO\n9bsGl+UXbGHOL1tjHmOA51W1PbAAGFuzgIg0AO4C+gGdgaEi0iFB/X8BA1X1h0AJ8FCN0w5V1S6q\n2lVV/51iDoG1dOlSv0PImDDnBpZf0IU5v2RzS7XxGAQ84P38ADA4RpnuuO1i16vqTmCmVy9ufVV9\nW1U/8n5eBnxPRKI3W7XuNmDbtm1+h5AxYc4NLL+gC3N+yeaW6kW4qapWAXgX+6YxyhwGbIg63ui9\nB9AsUX0ROQNY4jU81cq8LqvrU4zfGGNMPSTchlZE5gPNot8CFIh14U710abv1BeRzsAEoG/U2+eo\n6mYR2Qd4UkSGq+rDKX5uIK1bt87vEDImzLmB5Rd0Yc4v6dxUtd4voBJ39wDQHKiMUaYHMDfqeAww\nOlF9oAWwEuhRy+ePAKbU8vdqL3vZy172qvsr0fU/4Z1HArNxA9qluAv50zHKvA4cKSKtgM3AEGBo\nbfVFpAB4BtfIvFp9IhFpCBSo6n+8MZCBwPx4wSV6TtkYY0z9pDRJUEQOAh4DWgLrgbNUdZuIHALc\np6oDvXLFwGTcGMt0VZ2YoP51uDuU1XzbTXYy8AXwIq67rSHwPHCVzQQ0xpjsCvUMc2OMMZkRykde\n401KDAMRmS4iVSLyT79jyQQRaSEiC0RkmYi8IyJX+B1TOonIXiLymjfJ9R0RGe93TOkmIg28pyFn\n+x1LuonIOm/y8lsistjveNJNRA4QkcdFpNL7f/DYuGXDdufhTUpcBfQBPsSNuQxR1RW+BpYmInI8\nsB14UFX/z+940k1EmgPNVXWpiOwLvAkMCsv3ByAi31fVL7wxvEXAFaoamguRiPwK6Absr6qn+h1P\nOonI+0A3Vd3qdyyZICJlwEJVvV9E9gC+r6qfxiobxjuP2iYlBp6qvgyE8j9cAFX9SFWXej9vxz2R\nd1jttYJFVb/wftwLN34Xmt/gRKQFMAD4s9+xZIgQzusmIrI/cIKq3g+gqrviNRwQzn+E2iYlmgAR\nkdZAIfCav5Gkl9et8xbwETBfVV/3O6Y0+gNwDSFqEGtQYL635t6FfgeTZm2Af4vI/V63470isne8\nwmFsPEwIeF1WTwBXencgoaGqX6tqF9xcpmNFpJPfMaWDiPwUqPLuHMV7hU1PVe2Ku7u6zOtGDos9\ngK7AH70cv8A99RpTGBuPTcDhUcctvPdMQHh9rU8AD6lqrLlDoeB1CVQAxX7HkiY9gVO9cYFHgd4i\n8qDPMaWVqm72/vwX8BSumzwsNgIbVPUN7/gJXGMSUxgbj28mJYpII9ykxLA99RHW3+qq/QVYrqqT\n/Q4k3USkSdTWA3vjlt4JxcMAqjpOVQ9X1ba4/+8WqOp5fseVLiLyfe+OGG95pJOBd/2NKn28dQY3\niEg7760+wPJ45VOdYZ5zVHW3iFwOlPPtpMRKn8NKGxF5BCgCGovIB8D46gGuMBCRnsAw4B1vXECB\ncao619/I0uYQ4AHvqcAGwCxVneNzTCY5zYCnRERx184Zqlruc0zpdgUww1vB433g/HgFQ/eorjHG\nmMwLY7eVMcaYDLPGwxhjTJ1Z42GMMabOrPEwxhhTZ9Z4GGOMqTNrPIwxxtSZNR7GGGPqzBoPY4wx\ndfb/EfhK6dCyDZ4AAAAASUVORK5CYII=\n",
      "text/plain": [
       "<matplotlib.figure.Figure at 0x7d1e8b0>"
      ]
     },
     "metadata": {},
     "output_type": "display_data"
    }
   ],
   "source": [
    "zn1=np.array([G(i) for i in A2])\n",
    "sn1=np.array(B2-zn1)\n",
    "\n",
    "\n",
    "plt.plot(A2,sn1)\n",
    "plt.grid(True)\n",
    "plt.show()"
   ]
  },
  {
   "cell_type": "markdown",
   "metadata": {
    "collapsed": true
   },
   "source": [
    "### Задание 4: решение ДУ методом Рунге-Кутты кратности 4"
   ]
  },
  {
   "cell_type": "markdown",
   "metadata": {
    "collapsed": true
   },
   "source": [
    "Итерационный процесс данного метода имеет следующий вид в векторной форме:  \n",
    "$y_{n+1}=y_n + \\frac{h}{6} \\cdot (k_1+2k_2+2k_3+k_4)$, где $k_1-k_4$ - векторы, которые определяются следующим образом:  \n",
    "  \n",
    "$ k_1 = \\begin{array}{c}\\ \n",
    "f_1(x_n,y^1_n,y^2_n) & \\\\\n",
    "f_2(x_n,y^1_n,y^2_n) & \n",
    "\\end{array} $ \n",
    "  \n",
    "$ k_2 = \\begin{array}{c}\\ \n",
    "f_1(x_n + \\frac{h}{2},y^1_n + \\frac{h}{2}\\cdot(k_1)_{11},y^2_n + \\frac{h}{2}\\cdot(k_1)_{11}) & \\\\\n",
    "f_2(x_n + \\frac{h}{2},y^1_n + \\frac{h}{2}\\cdot(k_1)_{21},y^2_n + \\frac{h}{2}\\cdot(k_1)_{21}) & \n",
    "\\end{array} $  \n",
    "  \n",
    "\n",
    "$ k_3 = \\begin{array}{c}\\ \n",
    "f_1(x_n + \\frac{h}{2},y^1_n + \\frac{h}{2}\\cdot(k_2)_{11},y^2_n + \\frac{h}{2}\\cdot(k_2)_{11}) & \\\\\n",
    "f_2(x_n + \\frac{h}{2},y^1_n + \\frac{h}{2}\\cdot(k_2)_{21},y^2_n + \\frac{h}{2}\\cdot(k_2)_{21}) & \n",
    "\\end{array} $  \n",
    "  \n",
    "\n",
    "$ k_4 = \\begin{array}{c}\\ \n",
    "f_1(x_n + h,y^1_n + h\\cdot(k_3)_{11},y^2_n + h\\cdot(k_3)_{11}) & \\\\\n",
    "f_2(x_n + h,y^1_n + h\\cdot(k_3)_{21},y^2_n + h\\cdot(k_3)_{21}) & \n",
    "\\end{array} $   \n",
    "  \n"
   ]
  },
  {
   "cell_type": "markdown",
   "metadata": {},
   "source": [
    "Реализуем метод на основе \"черного ящика\" из предыдущего задания"
   ]
  },
  {
   "cell_type": "code",
   "execution_count": 56,
   "metadata": {
    "collapsed": false
   },
   "outputs": [],
   "source": [
    "def R(f,x00,y0,y00,h):\n",
    "    n=0\n",
    "    k1=np.zeros([2,1])\n",
    "    k2=np.zeros([2,1])\n",
    "    k3=np.zeros([2,1])\n",
    "    k4=np.zeros([2,1])\n",
    "\n",
    "    while True:\n",
    "        x0=x00\n",
    "        y10=np.array([[y0],[y00]])\n",
    "        #y и y'\n",
    "        n=n+1\n",
    "        X=[x0]\n",
    "        Y1=[y0]\n",
    "        Y2=[y00]\n",
    "        i=1\n",
    "        S=[y0]\n",
    "        \n",
    "        while x0>=0 and x0<=(6-h):\n",
    "            k1[0][0]=f(x,y1,y2)[0].evalf(subs={x:x0,y1:y10[0][0],y2:y10[1][0]})\n",
    "            k1[1][0]=f(x,y1,y2)[1].evalf(subs={x:x0,y1:y10[0][0],y2:y10[1][0]})\n",
    "            \n",
    "            k2[0][0]=f(x,y1,y2)[0].evalf(subs={x:x0+0.5*h,y1:y10[0][0]+0.5*h*k1[0][0],y2:y10[1][0]+0.5*h*k1[0][0]})\n",
    "            k2[1][0]=f(x,y1,y2)[1].evalf(subs={x:x0+0.5*h,y1:y10[0][0]+0.5*h*k1[1][0],y2:y10[1][0]+0.5*h*k1[1][0]})\n",
    "            \n",
    "            k3[0][0]=f(x,y1,y2)[0].evalf(subs={x:x0+0.5*h,y1:y10[0][0]+0.5*h*k2[0][0],y2:y10[1][0]+0.5*h*k2[0][0]})\n",
    "            k3[1][0]=f(x,y1,y2)[1].evalf(subs={x:x0+0.5*h,y1:y10[0][0]+0.5*h*k2[1][0],y2:y10[1][0]+0.5*h*k2[1][0]})\n",
    "            \n",
    "            k4[0][0]=f(x,y1,y2)[0].evalf(subs={x:x0+h,y1:y10[0][0]+h*k3[0][0],y2:y10[1][0]+h*k3[0][0]})\n",
    "            k4[1][0]=f(x,y1,y2)[1].evalf(subs={x:x0+h,y1:y10[0][0]+h*k3[1][0],y2:y10[1][0]+h*k3[1][0]})\n",
    "           \n",
    "            yn=y10+(h/6)*(k1+2*k2+2*k3+k4)\n",
    "            \n",
    "            \n",
    "            y10=yn\n",
    "            x0=x0+h\n",
    "            X.append(x0)\n",
    "            \n",
    "            Y1.append(yn[0][0])\n",
    "            Y2.append(yn[1][0])\n",
    "            \n",
    "            i=i+1\n",
    "            if i%2!=0:\n",
    "                S.append(yn[0][0])\n",
    "               \n",
    "        h=h*0.5\n",
    "        S=np.array(S,dtype=np.double)\n",
    "        \n",
    "        if n!=1:\n",
    "            Y3=np.array(Y3,dtype=np.double)\n",
    "            \n",
    "            if abs(max(S-Y3))<0.01:\n",
    "                break \n",
    "            \n",
    "        Y3=Y1\n",
    "     \n",
    "    return X,Y1,Y2\n",
    "\n",
    "A1=R(f,0,1,0,1)[0]\n",
    "B1=R(f,0,1,0,1)[1]\n",
    "#C1=R(f,0,1,0,1)[2]\n",
    "\n"
   ]
  },
  {
   "cell_type": "markdown",
   "metadata": {
    "collapsed": false
   },
   "source": [
    "График решения методом и точное решение"
   ]
  },
  {
   "cell_type": "code",
   "execution_count": 57,
   "metadata": {
    "collapsed": false
   },
   "outputs": [
    {
     "data": {
      "image/png": "iVBORw0KGgoAAAANSUhEUgAAAXwAAAEACAYAAACwB81wAAAABHNCSVQICAgIfAhkiAAAAAlwSFlz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\nAAAAAElFTkSuQmCC\n",
      "text/plain": [
       "<matplotlib.figure.Figure at 0x7d35b50>"
      ]
     },
     "metadata": {},
     "output_type": "display_data"
    }
   ],
   "source": [
    "def G(a):\n",
    "    g=(1/16)*exp(-2*a)*(a+1)+exp(-2*a/3)*(15/16*cos(sqrt(8/9)*a)+33/(sqrt(8)*16)*sin(sqrt(8/9)*a))\n",
    "    return g                    \n",
    "\n",
    "aa=np.linspace(0,6,50)\n",
    "gg=[G(i) for i in aa]\n",
    "\n",
    "\n",
    "plt.plot(aa,gg,A1,B1)\n",
    "plt.grid(True)\n",
    "plt.show()"
   ]
  },
  {
   "cell_type": "markdown",
   "metadata": {},
   "source": [
    "Сравнение решений (вывод разницы)"
   ]
  },
  {
   "cell_type": "code",
   "execution_count": 59,
   "metadata": {
    "collapsed": false
   },
   "outputs": [
    {
     "data": {
      "image/png": "iVBORw0KGgoAAAANSUhEUgAAAYkAAAEACAYAAABGYoqtAAAABHNCSVQICAgIfAhkiAAAAAlwSFlz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\nrkJggg==\n",
      "text/plain": [
       "<matplotlib.figure.Figure at 0x7d31c50>"
      ]
     },
     "metadata": {},
     "output_type": "display_data"
    }
   ],
   "source": [
    "zn2=np.array([G(i) for i in A1])\n",
    "\n",
    "s2n=np.array(B1-zn2)\n",
    "\n",
    "\n",
    "plt.plot(A1,s2n)\n",
    "plt.grid(True)\n",
    "plt.show()\n"
   ]
  },
  {
   "cell_type": "markdown",
   "metadata": {},
   "source": [
    "Метод Тейлора и Рунге-Кутты"
   ]
  },
  {
   "cell_type": "code",
   "execution_count": 60,
   "metadata": {
    "collapsed": false
   },
   "outputs": [
    {
     "data": {
      "image/png": "iVBORw0KGgoAAAANSUhEUgAAAXwAAAEACAYAAACwB81wAAAABHNCSVQICAgIfAhkiAAAAAlwSFlz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\nYII=\n",
      "text/plain": [
       "<matplotlib.figure.Figure at 0x7a24550>"
      ]
     },
     "metadata": {},
     "output_type": "display_data"
    }
   ],
   "source": [
    "plt.plot(A,B,A1,B1)\n",
    "plt.grid(True)\n",
    "plt.show()"
   ]
  },
  {
   "cell_type": "markdown",
   "metadata": {},
   "source": [
    "Выполнила: Тюрина Анастасия, 431 группа"
   ]
  }
 ],
 "metadata": {
  "anaconda-cloud": {},
  "kernelspec": {
   "display_name": "Python [Root]",
   "language": "python",
   "name": "Python [Root]"
  },
  "language_info": {
   "codemirror_mode": {
    "name": "ipython",
    "version": 3
   },
   "file_extension": ".py",
   "mimetype": "text/x-python",
   "name": "python",
   "nbconvert_exporter": "python",
   "pygments_lexer": "ipython3",
   "version": "3.5.2"
  }
 },
 "nbformat": 4,
 "nbformat_minor": 0
}
